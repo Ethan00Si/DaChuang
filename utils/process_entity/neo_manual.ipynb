{
 "metadata": {
  "language_info": {
   "codemirror_mode": {
    "name": "ipython",
    "version": 3
   },
   "file_extension": ".py",
   "mimetype": "text/x-python",
   "name": "python",
   "nbconvert_exporter": "python",
   "pygments_lexer": "ipython3",
   "version": "3.7.7-final"
  },
  "orig_nbformat": 2,
  "kernelspec": {
   "name": "python_defaultSpec_1598773927048",
   "display_name": "Python 3.7.7 64-bit ('web': conda)"
  }
 },
 "nbformat": 4,
 "nbformat_minor": 2,
 "cells": [
  {
   "cell_type": "code",
   "execution_count": 1,
   "metadata": {},
   "outputs": [],
   "source": [
    "from py2neo import Graph,Node,Relationship,Subgraph\n",
    "graph = Graph('bolt://localhost:7687',username='neo4j',password='123456')"
   ]
  },
  {
   "cell_type": "code",
   "execution_count": null,
   "metadata": {},
   "outputs": [],
   "source": [
    "nodes = Subgraph(nodes=[node1,node2],relationships=[r])"
   ]
  },
  {
   "cell_type": "code",
   "execution_count": 2,
   "metadata": {},
   "outputs": [],
   "source": [
    "graph.delete_all()"
   ]
  },
  {
   "cell_type": "code",
   "execution_count": 3,
   "metadata": {},
   "outputs": [],
   "source": [
    "from process_to_neo import process,create_lab_nodes,create_teacher_nodes,create_graph"
   ]
  },
  {
   "cell_type": "code",
   "execution_count": 4,
   "metadata": {
    "tags": []
   },
   "outputs": [
    {
     "output_type": "stream",
     "name": "stdout",
     "text": "肖林 have no major\n"
    }
   ],
   "source": [
    "create_graph(r'D:\\codes\\Pt_MarkDown\\大创\\teachers')"
   ]
  },
  {
   "cell_type": "code",
   "execution_count": 6,
   "metadata": {},
   "outputs": [],
   "source": [
    "import pandas\n",
    "data = pandas.read_csv(r'D:\\repositories\\DaChuang\\data\\news_each_school\\econ_output.csv')"
   ]
  },
  {
   "cell_type": "code",
   "execution_count": 7,
   "metadata": {},
   "outputs": [],
   "source": [
    "from process_to_neo import getEntity_from_neo\n",
    "data1 = getEntity_from_neo(data)"
   ]
  },
  {
   "cell_type": "code",
   "execution_count": 9,
   "metadata": {},
   "outputs": [
    {
     "output_type": "execute_result",
     "data": {
      "text/plain": "        datetime           source  \\\n0     2020-07-20  econ.ruc.edu.cn   \n1     2020-07-20  econ.ruc.edu.cn   \n2     2020-07-20  econ.ruc.edu.cn   \n3     2020-07-20  econ.ruc.edu.cn   \n4     2020-07-20  econ.ruc.edu.cn   \n...          ...              ...   \n5845  2006-11-28  econ.ruc.edu.cn   \n5861  2006-11-28  econ.ruc.edu.cn   \n5864  2006-11-28  econ.ruc.edu.cn   \n5892  2006-11-28  econ.ruc.edu.cn   \n5896  2006-11-28  econ.ruc.edu.cn   \n\n                                                    url  \\\n0     http://econ.ruc.edu.cn/kxyj/xssx/b39bc18e9f474...   \n1     http://econ.ruc.edu.cn/kxyj/xssx/993a1cf7fc214...   \n2     http://econ.ruc.edu.cn/kxyj/xssx/7c95ce6a2ebf4...   \n3     http://econ.ruc.edu.cn/kxyj/xssx/36ea81c4c3ba4...   \n4     http://econ.ruc.edu.cn/kxyj/xssx/87f35c67296d4...   \n...                                                 ...   \n5845  http://econ.ruc.edu.cn/xwdt/ed5ccacefe1540b7ae...   \n5861  http://econ.ruc.edu.cn/xwdt/2ecd8551c1a544d0b1...   \n5864  http://econ.ruc.edu.cn/xwdt/c962a9255bbc4ca486...   \n5892  http://econ.ruc.edu.cn/xwdt/a7783ae97b1e41d5b6...   \n5896  http://econ.ruc.edu.cn/xwdt/68f85a03f52542fb9f...   \n\n                                title  \\\n0               【光明日报】刘守英：中国农业的转型与现代化   \n1       【澎湃新闻】于泽：如何理解“两会”应对疫情的一揽子政策方案   \n2       【中国证券报】刘元春：稳定经济基本盘，有效挖掘释放内需潜力   \n3     【中国宏观经济论坛】陈彦斌：稳增长过于依赖房地产会加剧经济分化   \n4        【网易研究局】刘元春：美股走向与疫情基本面的背离越来越大   \n...                               ...   \n5845         杨瑞龙教授向经济学院学生课外学术活动奖励基金捐款   \n5861              高德步书记在“七·一”表彰大会上的发言   \n5864                   杨瑞龙教授赴德国参加学术会议   \n5892   杨瑞龙教授受聘担任北京市“十一五”规划工作专家咨询委员会委员   \n5896                杨瑞龙教授在CENET的在线访谈录   \n\n                                                content entity_id entity_idx  \n0     新中国成立70多年来，伴随国家的现代化进程，农业现代化取得重大进展。当前，伴随着经济发展从高...        58        6,9  \n1     刚刚闭幕的全国“两会”实质性地提出了我国应对新冠肺炎疫情的一揽子政策方案。当前还存在着对政策...        99        6,8  \n2     中国人民大学副校长刘元春近日接受中国证券报记者专访时表示，当前要以内部经济大循环为主体，快速...        53       7,10  \n3     回顾过去二十多年我国宏观经济运行与房地产调控历程，一个很清晰的事实是每当经济下行压力较大时，...        20      10,13  \n4     美国金融与疫情基本面的背离越来越大对于近期的剧烈波动，首先要明白，当下层面与基本面的背离越来...        53       7,10  \n...                                                 ...       ...        ...  \n5845  近日，经济学院院长杨瑞龙教授向经济学院学生课外学术活动奖励基金捐款9312元。2003年，为...       100        0,3  \n5861  尊敬的各位领导、各位老师、同志们：大家好！适逢纪念中国共产党成立84周年之际，学校隆重举行表...        26        0,3  \n5864  经济学院杨瑞龙教授由德方邀请与资助，予2005年8月26-9月1日赴德国古城Jena参加“第...       100        0,3  \n5892  经济学院院长杨瑞龙教授受聘担任北京市“十一五”规划工作专家咨询委员会委员，并于2005年3月...       100        0,3  \n5896  网友：杨老师是人大经院的院长，我想了解人大经院研究生核心课程有那些？有人说，人大经院的思想比...       100        0,3  \n\n[1305 rows x 7 columns]",
      "text/html": "<div>\n<style scoped>\n    .dataframe tbody tr th:only-of-type {\n        vertical-align: middle;\n    }\n\n    .dataframe tbody tr th {\n        vertical-align: top;\n    }\n\n    .dataframe thead th {\n        text-align: right;\n    }\n</style>\n<table border=\"1\" class=\"dataframe\">\n  <thead>\n    <tr style=\"text-align: right;\">\n      <th></th>\n      <th>datetime</th>\n      <th>source</th>\n      <th>url</th>\n      <th>title</th>\n      <th>content</th>\n      <th>entity_id</th>\n      <th>entity_idx</th>\n    </tr>\n  </thead>\n  <tbody>\n    <tr>\n      <th>0</th>\n      <td>2020-07-20</td>\n      <td>econ.ruc.edu.cn</td>\n      <td>http://econ.ruc.edu.cn/kxyj/xssx/b39bc18e9f474...</td>\n      <td>【光明日报】刘守英：中国农业的转型与现代化</td>\n      <td>新中国成立70多年来，伴随国家的现代化进程，农业现代化取得重大进展。当前，伴随着经济发展从高...</td>\n      <td>58</td>\n      <td>6,9</td>\n    </tr>\n    <tr>\n      <th>1</th>\n      <td>2020-07-20</td>\n      <td>econ.ruc.edu.cn</td>\n      <td>http://econ.ruc.edu.cn/kxyj/xssx/993a1cf7fc214...</td>\n      <td>【澎湃新闻】于泽：如何理解“两会”应对疫情的一揽子政策方案</td>\n      <td>刚刚闭幕的全国“两会”实质性地提出了我国应对新冠肺炎疫情的一揽子政策方案。当前还存在着对政策...</td>\n      <td>99</td>\n      <td>6,8</td>\n    </tr>\n    <tr>\n      <th>2</th>\n      <td>2020-07-20</td>\n      <td>econ.ruc.edu.cn</td>\n      <td>http://econ.ruc.edu.cn/kxyj/xssx/7c95ce6a2ebf4...</td>\n      <td>【中国证券报】刘元春：稳定经济基本盘，有效挖掘释放内需潜力</td>\n      <td>中国人民大学副校长刘元春近日接受中国证券报记者专访时表示，当前要以内部经济大循环为主体，快速...</td>\n      <td>53</td>\n      <td>7,10</td>\n    </tr>\n    <tr>\n      <th>3</th>\n      <td>2020-07-20</td>\n      <td>econ.ruc.edu.cn</td>\n      <td>http://econ.ruc.edu.cn/kxyj/xssx/36ea81c4c3ba4...</td>\n      <td>【中国宏观经济论坛】陈彦斌：稳增长过于依赖房地产会加剧经济分化</td>\n      <td>回顾过去二十多年我国宏观经济运行与房地产调控历程，一个很清晰的事实是每当经济下行压力较大时，...</td>\n      <td>20</td>\n      <td>10,13</td>\n    </tr>\n    <tr>\n      <th>4</th>\n      <td>2020-07-20</td>\n      <td>econ.ruc.edu.cn</td>\n      <td>http://econ.ruc.edu.cn/kxyj/xssx/87f35c67296d4...</td>\n      <td>【网易研究局】刘元春：美股走向与疫情基本面的背离越来越大</td>\n      <td>美国金融与疫情基本面的背离越来越大对于近期的剧烈波动，首先要明白，当下层面与基本面的背离越来...</td>\n      <td>53</td>\n      <td>7,10</td>\n    </tr>\n    <tr>\n      <th>...</th>\n      <td>...</td>\n      <td>...</td>\n      <td>...</td>\n      <td>...</td>\n      <td>...</td>\n      <td>...</td>\n      <td>...</td>\n    </tr>\n    <tr>\n      <th>5845</th>\n      <td>2006-11-28</td>\n      <td>econ.ruc.edu.cn</td>\n      <td>http://econ.ruc.edu.cn/xwdt/ed5ccacefe1540b7ae...</td>\n      <td>杨瑞龙教授向经济学院学生课外学术活动奖励基金捐款</td>\n      <td>近日，经济学院院长杨瑞龙教授向经济学院学生课外学术活动奖励基金捐款9312元。2003年，为...</td>\n      <td>100</td>\n      <td>0,3</td>\n    </tr>\n    <tr>\n      <th>5861</th>\n      <td>2006-11-28</td>\n      <td>econ.ruc.edu.cn</td>\n      <td>http://econ.ruc.edu.cn/xwdt/2ecd8551c1a544d0b1...</td>\n      <td>高德步书记在“七·一”表彰大会上的发言</td>\n      <td>尊敬的各位领导、各位老师、同志们：大家好！适逢纪念中国共产党成立84周年之际，学校隆重举行表...</td>\n      <td>26</td>\n      <td>0,3</td>\n    </tr>\n    <tr>\n      <th>5864</th>\n      <td>2006-11-28</td>\n      <td>econ.ruc.edu.cn</td>\n      <td>http://econ.ruc.edu.cn/xwdt/c962a9255bbc4ca486...</td>\n      <td>杨瑞龙教授赴德国参加学术会议</td>\n      <td>经济学院杨瑞龙教授由德方邀请与资助，予2005年8月26-9月1日赴德国古城Jena参加“第...</td>\n      <td>100</td>\n      <td>0,3</td>\n    </tr>\n    <tr>\n      <th>5892</th>\n      <td>2006-11-28</td>\n      <td>econ.ruc.edu.cn</td>\n      <td>http://econ.ruc.edu.cn/xwdt/a7783ae97b1e41d5b6...</td>\n      <td>杨瑞龙教授受聘担任北京市“十一五”规划工作专家咨询委员会委员</td>\n      <td>经济学院院长杨瑞龙教授受聘担任北京市“十一五”规划工作专家咨询委员会委员，并于2005年3月...</td>\n      <td>100</td>\n      <td>0,3</td>\n    </tr>\n    <tr>\n      <th>5896</th>\n      <td>2006-11-28</td>\n      <td>econ.ruc.edu.cn</td>\n      <td>http://econ.ruc.edu.cn/xwdt/68f85a03f52542fb9f...</td>\n      <td>杨瑞龙教授在CENET的在线访谈录</td>\n      <td>网友：杨老师是人大经院的院长，我想了解人大经院研究生核心课程有那些？有人说，人大经院的思想比...</td>\n      <td>100</td>\n      <td>0,3</td>\n    </tr>\n  </tbody>\n</table>\n<p>1305 rows × 7 columns</p>\n</div>"
     },
     "metadata": {},
     "execution_count": 9
    }
   ],
   "source": [
    "data1.dropna(how='any')"
   ]
  },
  {
   "cell_type": "code",
   "execution_count": null,
   "metadata": {},
   "outputs": [],
   "source": []
  }
 ]
}