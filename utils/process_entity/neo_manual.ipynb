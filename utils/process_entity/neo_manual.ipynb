{
 "metadata": {
  "language_info": {
   "codemirror_mode": {
    "name": "ipython",
    "version": 3
   },
   "file_extension": ".py",
   "mimetype": "text/x-python",
   "name": "python",
   "nbconvert_exporter": "python",
   "pygments_lexer": "ipython3",
   "version": "3.7.7-final"
  },
  "orig_nbformat": 2,
  "kernelspec": {
   "name": "python_defaultSpec_1598976700001",
   "display_name": "Python 3.7.7 64-bit ('web': conda)"
  }
 },
 "nbformat": 4,
 "nbformat_minor": 2,
 "cells": [
  {
   "cell_type": "code",
   "execution_count": 1,
   "metadata": {},
   "outputs": [],
   "source": [
    "from py2neo import Graph,Node,Relationship,Subgraph\n",
    "graph = Graph('bolt://localhost:7687',username='neo4j',password='123456')"
   ]
  },
  {
   "cell_type": "code",
   "execution_count": 31,
   "metadata": {},
   "outputs": [],
   "source": [
    "node = graph.nodes.match(var='窦志成').first()"
   ]
  },
  {
   "cell_type": "code",
   "execution_count": 35,
   "metadata": {},
   "outputs": [
    {
     "output_type": "execute_result",
     "data": {
      "text/plain": "'1212 23'"
     },
     "metadata": {},
     "execution_count": 35
    }
   ],
   "source": [
    "'12'+' '.join(['12','23'])"
   ]
  },
  {
   "cell_type": "code",
   "execution_count": 34,
   "metadata": {},
   "outputs": [
    {
     "output_type": "execute_result",
     "data": {
      "text/plain": "['信息抽取', '机器学习', '大数据', '信息检索', '自然语言处理', '数据挖掘']"
     },
     "metadata": {},
     "execution_count": 34
    }
   ],
   "source": [
    "node['major']"
   ]
  },
  {
   "cell_type": "code",
   "execution_count": 2,
   "metadata": {},
   "outputs": [],
   "source": [
    "graph.delete_all()"
   ]
  },
  {
   "cell_type": "code",
   "execution_count": 3,
   "metadata": {},
   "outputs": [],
   "source": [
    "from process_to_neo import process,create_lab_nodes,create_teacher_nodes,create_graph"
   ]
  },
  {
   "cell_type": "code",
   "execution_count": 4,
   "metadata": {
    "tags": []
   },
   "outputs": [
    {
     "output_type": "stream",
     "name": "stdout",
     "text": "肖林 have no major\n"
    }
   ],
   "source": [
    "create_graph(r'D:\\codes\\Pt_MarkDown\\大创\\teachers')"
   ]
  },
  {
   "cell_type": "code",
   "execution_count": 43,
   "metadata": {},
   "outputs": [],
   "source": [
    "import pandas\n",
    "data = pandas.read_csv(r'D:\\repositories\\DaChuang\\data\\news_each_school\\ai_output.csv',index_col=0)"
   ]
  },
  {
   "cell_type": "code",
   "execution_count": 45,
   "metadata": {},
   "outputs": [],
   "source": [
    "data.to_csv(r'D:\\repositories\\DaChuang\\data\\news_each_school\\ai_output.csv',index=False)"
   ]
  },
  {
   "cell_type": "code",
   "execution_count": 17,
   "metadata": {},
   "outputs": [
    {
     "output_type": "execute_result",
     "data": {
      "text/plain": "       datetime         source  \\\n0    2020-08-14  ai.ruc.edu.cn   \n1    2020-08-06  ai.ruc.edu.cn   \n2    2020-07-29  ai.ruc.edu.cn   \n3    2020-07-24  ai.ruc.edu.cn   \n4    2020-07-21  ai.ruc.edu.cn   \n..          ...            ...   \n105  2019-04-21  ai.ruc.edu.cn   \n106  2019-04-15  ai.ruc.edu.cn   \n107  2019-04-15  ai.ruc.edu.cn   \n108  2019-01-19  ai.ruc.edu.cn   \n109  2019-01-19  ai.ruc.edu.cn   \n\n                                                   url  \\\n0    http://ai.ruc.edu.cn/newslist/newsdetail/20200...   \n1    http://ai.ruc.edu.cn/newslist/notice/6530580c5...   \n2    http://ai.ruc.edu.cn/newslist/notice/202007290...   \n3    http://ai.ruc.edu.cn/newslist/newsdetail/20200...   \n4    http://ai.ruc.edu.cn/newslist/newsdetail/2ad70...   \n..                                                 ...   \n105  http://ai.ruc.edu.cn/newslist/xwrw/20190822002...   \n106  http://ai.ruc.edu.cn/newslist/notice/201904150...   \n107  http://ai.ruc.edu.cn/xwgg/gg/b51b2aded7104b11a...   \n108  http://ai.ruc.edu.cn/xwgg/xw/8436d8b907b14e308...   \n109  http://ai.ruc.edu.cn/newslist/newsdetail/20190...   \n\n                                   title  \\\n0              “智能信息检索与挖掘”年度研究进展研讨会在我院召开   \n1    2020-2021学年高瓴人工智能学院学生工作辅导员、学生助理招聘公告   \n2       高瓴人工智能学院人工智能学硕 2021年全国统考初试科目调整通知   \n3                  首届“全球青少年图灵计划”启动仪式在京举行   \n4      高瓴人工智能学院24篇师生论文被国际顶级期刊会议（CCF A）录用   \n..                                   ...   \n105                  人大教授文继荣：将“技术基因”带回校园   \n106                      【邀请函】高瓴人工智能学院成立   \n107                      【邀请函】高瓴人工智能学院成立   \n108                 知否知否？中国人民大学有人工智能学院了！   \n109                 知否知否？中国人民大学有人工智能学院了！   \n\n                                               content  entity_id entity_idx  \\\n0    8月11日，北京智源人工智能研究院“智能信息检索与挖掘”年度研究进展研讨会暨个人智能信息助手...        NaN        NaN   \n1    ﻿    高瓴人工智能学院现面向全院在校生招聘2020-2021学年学生工作辅导员、学生助理...        NaN        2:5   \n2    中国人民大学高瓴人工智能学院人工智能学硕2021年全国统考初试科目四计算机专业基础综合（代码...        NaN        NaN   \n3    2020年7月22日，“全球青少年图灵计划”启动仪式在中关村国家自主创新示范区展示中心举行。...        NaN        NaN   \n4    2020年春季学期，在高瓴人工智能学院6位青年导师的指导下，学院24篇师生论文被国际顶级期刊...        NaN       9:12   \n..                                                 ...        ...        ...   \n105  来源：新华社作者:魏梦佳“很幸运找到对的路，这5年来没有一丝后悔”在中国人民大学信息学院，4...        NaN        NaN   \n106  春水初生，春林日盛，春晖方暖。我们欣喜地向您报告春天的消息：人大高瓴人工智能学院成立揭牌仪式...        NaN        NaN   \n107  春水初生，春林日盛，春晖方暖。我们欣喜地向您报告春天的消息：人大高瓴人工智能学院成立揭牌仪式...        NaN        0:3   \n108  1月19日，中国人民大学成立高瓴人工智能学院，以响应国家对新一代人工智能发展的战略号召，通过...        NaN        NaN   \n109  1月19日，中国人民大学成立高瓴人工智能学院，以响应国家对新一代人工智能发展的战略号召，通过...        NaN        NaN   \n\n     relation_id  \n0            NaN  \n1            NaN  \n2            NaN  \n3            NaN  \n4            NaN  \n..           ...  \n105          NaN  \n106          NaN  \n107          NaN  \n108          NaN  \n109          NaN  \n\n[110 rows x 8 columns]",
      "text/html": "<div>\n<style scoped>\n    .dataframe tbody tr th:only-of-type {\n        vertical-align: middle;\n    }\n\n    .dataframe tbody tr th {\n        vertical-align: top;\n    }\n\n    .dataframe thead th {\n        text-align: right;\n    }\n</style>\n<table border=\"1\" class=\"dataframe\">\n  <thead>\n    <tr style=\"text-align: right;\">\n      <th></th>\n      <th>datetime</th>\n      <th>source</th>\n      <th>url</th>\n      <th>title</th>\n      <th>content</th>\n      <th>entity_id</th>\n      <th>entity_idx</th>\n      <th>relation_id</th>\n    </tr>\n  </thead>\n  <tbody>\n    <tr>\n      <th>0</th>\n      <td>2020-08-14</td>\n      <td>ai.ruc.edu.cn</td>\n      <td>http://ai.ruc.edu.cn/newslist/newsdetail/20200...</td>\n      <td>“智能信息检索与挖掘”年度研究进展研讨会在我院召开</td>\n      <td>8月11日，北京智源人工智能研究院“智能信息检索与挖掘”年度研究进展研讨会暨个人智能信息助手...</td>\n      <td>NaN</td>\n      <td>NaN</td>\n      <td>NaN</td>\n    </tr>\n    <tr>\n      <th>1</th>\n      <td>2020-08-06</td>\n      <td>ai.ruc.edu.cn</td>\n      <td>http://ai.ruc.edu.cn/newslist/notice/6530580c5...</td>\n      <td>2020-2021学年高瓴人工智能学院学生工作辅导员、学生助理招聘公告</td>\n      <td>﻿    高瓴人工智能学院现面向全院在校生招聘2020-2021学年学生工作辅导员、学生助理...</td>\n      <td>NaN</td>\n      <td>2:5</td>\n      <td>NaN</td>\n    </tr>\n    <tr>\n      <th>2</th>\n      <td>2020-07-29</td>\n      <td>ai.ruc.edu.cn</td>\n      <td>http://ai.ruc.edu.cn/newslist/notice/202007290...</td>\n      <td>高瓴人工智能学院人工智能学硕 2021年全国统考初试科目调整通知</td>\n      <td>中国人民大学高瓴人工智能学院人工智能学硕2021年全国统考初试科目四计算机专业基础综合（代码...</td>\n      <td>NaN</td>\n      <td>NaN</td>\n      <td>NaN</td>\n    </tr>\n    <tr>\n      <th>3</th>\n      <td>2020-07-24</td>\n      <td>ai.ruc.edu.cn</td>\n      <td>http://ai.ruc.edu.cn/newslist/newsdetail/20200...</td>\n      <td>首届“全球青少年图灵计划”启动仪式在京举行</td>\n      <td>2020年7月22日，“全球青少年图灵计划”启动仪式在中关村国家自主创新示范区展示中心举行。...</td>\n      <td>NaN</td>\n      <td>NaN</td>\n      <td>NaN</td>\n    </tr>\n    <tr>\n      <th>4</th>\n      <td>2020-07-21</td>\n      <td>ai.ruc.edu.cn</td>\n      <td>http://ai.ruc.edu.cn/newslist/newsdetail/2ad70...</td>\n      <td>高瓴人工智能学院24篇师生论文被国际顶级期刊会议（CCF A）录用</td>\n      <td>2020年春季学期，在高瓴人工智能学院6位青年导师的指导下，学院24篇师生论文被国际顶级期刊...</td>\n      <td>NaN</td>\n      <td>9:12</td>\n      <td>NaN</td>\n    </tr>\n    <tr>\n      <th>...</th>\n      <td>...</td>\n      <td>...</td>\n      <td>...</td>\n      <td>...</td>\n      <td>...</td>\n      <td>...</td>\n      <td>...</td>\n      <td>...</td>\n    </tr>\n    <tr>\n      <th>105</th>\n      <td>2019-04-21</td>\n      <td>ai.ruc.edu.cn</td>\n      <td>http://ai.ruc.edu.cn/newslist/xwrw/20190822002...</td>\n      <td>人大教授文继荣：将“技术基因”带回校园</td>\n      <td>来源：新华社作者:魏梦佳“很幸运找到对的路，这5年来没有一丝后悔”在中国人民大学信息学院，4...</td>\n      <td>NaN</td>\n      <td>NaN</td>\n      <td>NaN</td>\n    </tr>\n    <tr>\n      <th>106</th>\n      <td>2019-04-15</td>\n      <td>ai.ruc.edu.cn</td>\n      <td>http://ai.ruc.edu.cn/newslist/notice/201904150...</td>\n      <td>【邀请函】高瓴人工智能学院成立</td>\n      <td>春水初生，春林日盛，春晖方暖。我们欣喜地向您报告春天的消息：人大高瓴人工智能学院成立揭牌仪式...</td>\n      <td>NaN</td>\n      <td>NaN</td>\n      <td>NaN</td>\n    </tr>\n    <tr>\n      <th>107</th>\n      <td>2019-04-15</td>\n      <td>ai.ruc.edu.cn</td>\n      <td>http://ai.ruc.edu.cn/xwgg/gg/b51b2aded7104b11a...</td>\n      <td>【邀请函】高瓴人工智能学院成立</td>\n      <td>春水初生，春林日盛，春晖方暖。我们欣喜地向您报告春天的消息：人大高瓴人工智能学院成立揭牌仪式...</td>\n      <td>NaN</td>\n      <td>0:3</td>\n      <td>NaN</td>\n    </tr>\n    <tr>\n      <th>108</th>\n      <td>2019-01-19</td>\n      <td>ai.ruc.edu.cn</td>\n      <td>http://ai.ruc.edu.cn/xwgg/xw/8436d8b907b14e308...</td>\n      <td>知否知否？中国人民大学有人工智能学院了！</td>\n      <td>1月19日，中国人民大学成立高瓴人工智能学院，以响应国家对新一代人工智能发展的战略号召，通过...</td>\n      <td>NaN</td>\n      <td>NaN</td>\n      <td>NaN</td>\n    </tr>\n    <tr>\n      <th>109</th>\n      <td>2019-01-19</td>\n      <td>ai.ruc.edu.cn</td>\n      <td>http://ai.ruc.edu.cn/newslist/newsdetail/20190...</td>\n      <td>知否知否？中国人民大学有人工智能学院了！</td>\n      <td>1月19日，中国人民大学成立高瓴人工智能学院，以响应国家对新一代人工智能发展的战略号召，通过...</td>\n      <td>NaN</td>\n      <td>NaN</td>\n      <td>NaN</td>\n    </tr>\n  </tbody>\n</table>\n<p>110 rows × 8 columns</p>\n</div>"
     },
     "metadata": {},
     "execution_count": 17
    }
   ],
   "source": [
    "data"
   ]
  },
  {
   "cell_type": "code",
   "execution_count": 43,
   "metadata": {},
   "outputs": [],
   "source": [
    "m = open(r'D:\\repositories\\DaChuang\\utils\\process_entity\\entity2id.json','r',encoding='utf-8')"
   ]
  },
  {
   "cell_type": "code",
   "execution_count": 44,
   "metadata": {},
   "outputs": [],
   "source": [
    "import json"
   ]
  },
  {
   "cell_type": "code",
   "execution_count": 46,
   "metadata": {},
   "outputs": [],
   "source": [
    "ent2id = json.loads(m.read(),encoding='utf-8')"
   ]
  },
  {
   "cell_type": "code",
   "execution_count": 47,
   "metadata": {},
   "outputs": [],
   "source": [
    "m.close()"
   ]
  },
  {
   "cell_type": "code",
   "execution_count": 50,
   "metadata": {},
   "outputs": [
    {
     "output_type": "error",
     "ename": "KeyError",
     "evalue": "'278.0'",
     "traceback": [
      "\u001b[1;31m---------------------------------------------------------------------------\u001b[0m",
      "\u001b[1;31mKeyError\u001b[0m                                  Traceback (most recent call last)",
      "\u001b[1;32m<ipython-input-50-d8224f4a378e>\u001b[0m in \u001b[0;36m<module>\u001b[1;34m\u001b[0m\n\u001b[1;32m----> 1\u001b[1;33m \u001b[0ment2id\u001b[0m\u001b[1;33m[\u001b[0m\u001b[0mstr\u001b[0m\u001b[1;33m(\u001b[0m\u001b[0ma\u001b[0m\u001b[1;33m[\u001b[0m\u001b[1;36m12\u001b[0m\u001b[1;33m]\u001b[0m\u001b[1;33m)\u001b[0m\u001b[1;33m]\u001b[0m\u001b[1;33m\u001b[0m\u001b[1;33m\u001b[0m\u001b[0m\n\u001b[0m",
      "\u001b[1;31mKeyError\u001b[0m: '278.0'"
     ]
    }
   ],
   "source": [
    "ent2id[str(a[12])]"
   ]
  },
  {
   "cell_type": "code",
   "execution_count": 9,
   "metadata": {},
   "outputs": [],
   "source": [
    "from process_to_neo import getEntity_from_neo"
   ]
  },
  {
   "cell_type": "code",
   "execution_count": null,
   "metadata": {},
   "outputs": [],
   "source": [
    "getEntity_from_neo()"
   ]
  }
 ]
}