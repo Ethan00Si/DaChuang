{
 "metadata": {
  "language_info": {
   "codemirror_mode": {
    "name": "ipython",
    "version": 3
   },
   "file_extension": ".py",
   "mimetype": "text/x-python",
   "name": "python",
   "nbconvert_exporter": "python",
   "pygments_lexer": "ipython3",
   "version": "3.7.7-final"
  },
  "orig_nbformat": 2,
  "kernelspec": {
   "name": "python_defaultSpec_1598776181229",
   "display_name": "Python 3.7.7 64-bit ('web': conda)"
  }
 },
 "nbformat": 4,
 "nbformat_minor": 2,
 "cells": [
  {
   "cell_type": "code",
   "execution_count": 1,
   "metadata": {},
   "outputs": [],
   "source": [
    "from py2neo import Graph,Node,Relationship,Subgraph\n",
    "graph = Graph('bolt://localhost:7687',username='neo4j',password='123456')"
   ]
  },
  {
   "cell_type": "code",
   "execution_count": 31,
   "metadata": {},
   "outputs": [],
   "source": [
    "node = graph.nodes.match(var='窦志成').first()"
   ]
  },
  {
   "cell_type": "code",
   "execution_count": 35,
   "metadata": {},
   "outputs": [
    {
     "output_type": "execute_result",
     "data": {
      "text/plain": "'1212 23'"
     },
     "metadata": {},
     "execution_count": 35
    }
   ],
   "source": [
    "'12'+' '.join(['12','23'])"
   ]
  },
  {
   "cell_type": "code",
   "execution_count": 34,
   "metadata": {},
   "outputs": [
    {
     "output_type": "execute_result",
     "data": {
      "text/plain": "['信息抽取', '机器学习', '大数据', '信息检索', '自然语言处理', '数据挖掘']"
     },
     "metadata": {},
     "execution_count": 34
    }
   ],
   "source": [
    "node['major']"
   ]
  },
  {
   "cell_type": "code",
   "execution_count": 2,
   "metadata": {},
   "outputs": [],
   "source": [
    "graph.delete_all()"
   ]
  },
  {
   "cell_type": "code",
   "execution_count": 3,
   "metadata": {},
   "outputs": [],
   "source": [
    "from process_to_neo import process,create_lab_nodes,create_teacher_nodes,create_graph"
   ]
  },
  {
   "cell_type": "code",
   "execution_count": 4,
   "metadata": {
    "tags": []
   },
   "outputs": [
    {
     "output_type": "stream",
     "name": "stdout",
     "text": "肖林 have no major\n"
    }
   ],
   "source": [
    "create_graph(r'D:\\codes\\Pt_MarkDown\\大创\\teachers')"
   ]
  },
  {
   "cell_type": "code",
   "execution_count": 6,
   "metadata": {},
   "outputs": [],
   "source": [
    "import pandas\n",
    "data = pandas.read_csv(r'D:\\repositories\\DaChuang\\data\\news_each_school\\econ_output.csv')"
   ]
  },
  {
   "cell_type": "code",
   "execution_count": 7,
   "metadata": {},
   "outputs": [],
   "source": [
    "from process_to_neo import getEntity_from_neo\n",
    "data1 = getEntity_from_neo(data)"
   ]
  },
  {
   "cell_type": "code",
   "execution_count": 11,
   "metadata": {},
   "outputs": [],
   "source": [
    "data = pandas.read_csv('info_output.csv')"
   ]
  },
  {
   "cell_type": "code",
   "execution_count": 12,
   "metadata": {},
   "outputs": [
    {
     "output_type": "execute_result",
     "data": {
      "text/plain": "        datetime           source  \\\n0     2020-07-20  info.ruc.edu.cn   \n1     2020-07-19  info.ruc.edu.cn   \n2     2020-07-17  info.ruc.edu.cn   \n3     2020-07-13  info.ruc.edu.cn   \n4     2020-07-04  info.ruc.edu.cn   \n...          ...              ...   \n4516  2005-04-21  info.ruc.edu.cn   \n4517  2005-04-21  info.ruc.edu.cn   \n4518  2005-04-21  info.ruc.edu.cn   \n4519  2005-04-08  info.ruc.edu.cn   \n4520  2005-04-08  info.ruc.edu.cn   \n\n                                                    url  \\\n0     http://info.ruc.edu.cn/news_convert_detail.php...   \n1     http://info.ruc.edu.cn/news_convert_detail.php...   \n2     http://info.ruc.edu.cn/notice_convert_detail.p...   \n3     http://info.ruc.edu.cn/news_convert_detail.php...   \n4      http://info.ruc.edu.cn/notice_detail.php?id=2067   \n...                                                 ...   \n4516  http://info.ruc.edu.cn/news_convert_detail.php...   \n4517  http://info.ruc.edu.cn/news_convert_detail.php...   \n4518  http://info.ruc.edu.cn/news_convert_detail.php...   \n4519  http://info.ruc.edu.cn/notice_convert_detail.p...   \n4520   http://info.ruc.edu.cn/notice_detail.php?id=1351   \n\n                                             title  \\\n0     杜小勇教授受邀参加四川大学“课程思政|计算机专业课教学模式探索与启示研讨会”并作主题报告   \n1                       李锡荣老师受邀担任多媒体领域国际一流期刊TOMM编委   \n2                      2020年中国人民大学信息学院优秀大学生夏令营获奖名单   \n3                            信息学院2020年优秀大学生夏令营顺利举办   \n4                                信息学院2020年拟录取博士生名单   \n...                                            ...   \n4516                   信息学院研究生会举办“国际名企就业之路——走进IBM”   \n4517                         国家自然科学基金委国际合作局领导到我校调研   \n4518                             信息系教师学术交流活动“IT治理”   \n4519                     关于2001级毕业生数学计算机公共课重修考试的通知   \n4520                     关于2001级毕业生数学计算机公共课重修考试的通知   \n\n                                                content        entity_id  \\\n0     7月8日下午14时，四川大学计算机学院举行“课程思政|计算机专业课教学模式探索与启示研讨会”...  393 402 403 404   \n1     信息学院李锡荣老师受邀担任国际期刊TOMM编委（AssociateEditor），任期为20...  396 405 406 407   \n2     2020年7月8日至12日，来自全国各高校的优秀大学生与中国人民大学信息学院的硕士导师和博士...          398 408   \n3     2020年7月8日至7月12日，中国人民大学信息学院2020年优秀大学生夏令营顺利召开。在今...          389 409   \n4                                请见附件：信息学院2020年拟录取博士生名单              389   \n...                                                 ...              ...   \n4516  4月20日晚，由信息学院研究生会主办的“国际名企就业之路”系列活动之“走进IBM”在求是楼1...         389 3108   \n4517  4月12日国家自然科学基金委员会国际合作局领导吕蓓蕾及该局外事计划处张林处长到我校就信息学院...             3109   \n4518  2005年4月20日，信息管理与信息系统系本学期第二次教师学术交流活动在信息楼二层会议室召开...   1216 1800 3110   \n4519  关于2001级毕业生数学计算机公共课重修考试的通知一．考试安排:考试时间：5月11日上午8：...             3031   \n4520  关于2001级毕业生数学计算机公共课重修考试的通知一．考试安排:考试时间：5月11日上午8：...             3031   \n\n                entity_idx  \n0     3,5 9,13 13,38 40,42  \n1     3,5 9,14 18,20 20,26  \n2               5,11 11,27  \n3                 0,4 4,17  \n4                      0,4  \n...                    ...  \n4516             0,4 10,27  \n4517                  0,14  \n4518         0,3 3,5 11,17  \n4519                 13,15  \n4520                 13,15  \n\n[4484 rows x 7 columns]",
      "text/html": "<div>\n<style scoped>\n    .dataframe tbody tr th:only-of-type {\n        vertical-align: middle;\n    }\n\n    .dataframe tbody tr th {\n        vertical-align: top;\n    }\n\n    .dataframe thead th {\n        text-align: right;\n    }\n</style>\n<table border=\"1\" class=\"dataframe\">\n  <thead>\n    <tr style=\"text-align: right;\">\n      <th></th>\n      <th>datetime</th>\n      <th>source</th>\n      <th>url</th>\n      <th>title</th>\n      <th>content</th>\n      <th>entity_id</th>\n      <th>entity_idx</th>\n    </tr>\n  </thead>\n  <tbody>\n    <tr>\n      <th>0</th>\n      <td>2020-07-20</td>\n      <td>info.ruc.edu.cn</td>\n      <td>http://info.ruc.edu.cn/news_convert_detail.php...</td>\n      <td>杜小勇教授受邀参加四川大学“课程思政|计算机专业课教学模式探索与启示研讨会”并作主题报告</td>\n      <td>7月8日下午14时，四川大学计算机学院举行“课程思政|计算机专业课教学模式探索与启示研讨会”...</td>\n      <td>393 402 403 404</td>\n      <td>3,5 9,13 13,38 40,42</td>\n    </tr>\n    <tr>\n      <th>1</th>\n      <td>2020-07-19</td>\n      <td>info.ruc.edu.cn</td>\n      <td>http://info.ruc.edu.cn/news_convert_detail.php...</td>\n      <td>李锡荣老师受邀担任多媒体领域国际一流期刊TOMM编委</td>\n      <td>信息学院李锡荣老师受邀担任国际期刊TOMM编委（AssociateEditor），任期为20...</td>\n      <td>396 405 406 407</td>\n      <td>3,5 9,14 18,20 20,26</td>\n    </tr>\n    <tr>\n      <th>2</th>\n      <td>2020-07-17</td>\n      <td>info.ruc.edu.cn</td>\n      <td>http://info.ruc.edu.cn/notice_convert_detail.p...</td>\n      <td>2020年中国人民大学信息学院优秀大学生夏令营获奖名单</td>\n      <td>2020年7月8日至12日，来自全国各高校的优秀大学生与中国人民大学信息学院的硕士导师和博士...</td>\n      <td>398 408</td>\n      <td>5,11 11,27</td>\n    </tr>\n    <tr>\n      <th>3</th>\n      <td>2020-07-13</td>\n      <td>info.ruc.edu.cn</td>\n      <td>http://info.ruc.edu.cn/news_convert_detail.php...</td>\n      <td>信息学院2020年优秀大学生夏令营顺利举办</td>\n      <td>2020年7月8日至7月12日，中国人民大学信息学院2020年优秀大学生夏令营顺利召开。在今...</td>\n      <td>389 409</td>\n      <td>0,4 4,17</td>\n    </tr>\n    <tr>\n      <th>4</th>\n      <td>2020-07-04</td>\n      <td>info.ruc.edu.cn</td>\n      <td>http://info.ruc.edu.cn/notice_detail.php?id=2067</td>\n      <td>信息学院2020年拟录取博士生名单</td>\n      <td>请见附件：信息学院2020年拟录取博士生名单</td>\n      <td>389</td>\n      <td>0,4</td>\n    </tr>\n    <tr>\n      <th>...</th>\n      <td>...</td>\n      <td>...</td>\n      <td>...</td>\n      <td>...</td>\n      <td>...</td>\n      <td>...</td>\n      <td>...</td>\n    </tr>\n    <tr>\n      <th>4516</th>\n      <td>2005-04-21</td>\n      <td>info.ruc.edu.cn</td>\n      <td>http://info.ruc.edu.cn/news_convert_detail.php...</td>\n      <td>信息学院研究生会举办“国际名企就业之路——走进IBM”</td>\n      <td>4月20日晚，由信息学院研究生会主办的“国际名企就业之路”系列活动之“走进IBM”在求是楼1...</td>\n      <td>389 3108</td>\n      <td>0,4 10,27</td>\n    </tr>\n    <tr>\n      <th>4517</th>\n      <td>2005-04-21</td>\n      <td>info.ruc.edu.cn</td>\n      <td>http://info.ruc.edu.cn/news_convert_detail.php...</td>\n      <td>国家自然科学基金委国际合作局领导到我校调研</td>\n      <td>4月12日国家自然科学基金委员会国际合作局领导吕蓓蕾及该局外事计划处张林处长到我校就信息学院...</td>\n      <td>3109</td>\n      <td>0,14</td>\n    </tr>\n    <tr>\n      <th>4518</th>\n      <td>2005-04-21</td>\n      <td>info.ruc.edu.cn</td>\n      <td>http://info.ruc.edu.cn/news_convert_detail.php...</td>\n      <td>信息系教师学术交流活动“IT治理”</td>\n      <td>2005年4月20日，信息管理与信息系统系本学期第二次教师学术交流活动在信息楼二层会议室召开...</td>\n      <td>1216 1800 3110</td>\n      <td>0,3 3,5 11,17</td>\n    </tr>\n    <tr>\n      <th>4519</th>\n      <td>2005-04-08</td>\n      <td>info.ruc.edu.cn</td>\n      <td>http://info.ruc.edu.cn/notice_convert_detail.p...</td>\n      <td>关于2001级毕业生数学计算机公共课重修考试的通知</td>\n      <td>关于2001级毕业生数学计算机公共课重修考试的通知一．考试安排:考试时间：5月11日上午8：...</td>\n      <td>3031</td>\n      <td>13,15</td>\n    </tr>\n    <tr>\n      <th>4520</th>\n      <td>2005-04-08</td>\n      <td>info.ruc.edu.cn</td>\n      <td>http://info.ruc.edu.cn/notice_detail.php?id=1351</td>\n      <td>关于2001级毕业生数学计算机公共课重修考试的通知</td>\n      <td>关于2001级毕业生数学计算机公共课重修考试的通知一．考试安排:考试时间：5月11日上午8：...</td>\n      <td>3031</td>\n      <td>13,15</td>\n    </tr>\n  </tbody>\n</table>\n<p>4484 rows × 7 columns</p>\n</div>"
     },
     "metadata": {},
     "execution_count": 12
    }
   ],
   "source": [
    "data.dropna(how=\"any\")"
   ]
  },
  {
   "cell_type": "code",
   "execution_count": null,
   "metadata": {},
   "outputs": [],
   "source": []
  }
 ]
}