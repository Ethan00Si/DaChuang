{
 "metadata": {
  "language_info": {
   "codemirror_mode": {
    "name": "ipython",
    "version": 3
   },
   "file_extension": ".py",
   "mimetype": "text/x-python",
   "name": "python",
   "nbconvert_exporter": "python",
   "pygments_lexer": "ipython3",
   "version": "3.7.7-final"
  },
  "orig_nbformat": 2,
  "kernelspec": {
   "name": "Python 3.7.7 64-bit ('web': conda)",
   "display_name": "Python 3.7.7 64-bit ('web': conda)",
   "metadata": {
    "interpreter": {
     "hash": "c16a851c63c3e4072673cce0ebd4e2ea0b3b1938145b4fa7ab278007ca6aa5c9"
    }
   }
  }
 },
 "nbformat": 4,
 "nbformat_minor": 2,
 "cells": [
  {
   "cell_type": "code",
   "execution_count": 2,
   "metadata": {},
   "outputs": [
    {
     "output_type": "stream",
     "name": "stdout",
     "text": [
      "肖林 have no major\n"
     ]
    }
   ],
   "source": [
    "from process_to_neo import create_graph\n",
    "create_graph(path=r'D:\\codes\\Pt_MarkDown\\大创\\teachers')"
   ]
  },
  {
   "cell_type": "code",
   "execution_count": 3,
   "metadata": {},
   "outputs": [],
   "source": [
    "from py2neo import Graph,Node,Relationship,Subgraph\n",
    "\n",
    "graph = Graph('bolt://localhost:7687',username='neo4j',password='123456')"
   ]
  },
  {
   "cell_type": "code",
   "execution_count": 9,
   "metadata": {},
   "outputs": [],
   "source": [
    "node = graph.nodes.match(id=169).first()"
   ]
  },
  {
   "cell_type": "code",
   "execution_count": 10,
   "metadata": {},
   "outputs": [
    {
     "output_type": "execute_result",
     "data": {
      "text/plain": [
       "{'var': '人机交互', 'id': 169}"
      ]
     },
     "metadata": {},
     "execution_count": 10
    }
   ],
   "source": [
    "dict(node)"
   ]
  },
  {
   "cell_type": "code",
   "execution_count": 14,
   "metadata": {},
   "outputs": [
    {
     "output_type": "stream",
     "name": "stdout",
     "text": [
      "a\n"
     ]
    }
   ],
   "source": [
    "for a in ''.split(','):\n",
    "    print('a')"
   ]
  },
  {
   "cell_type": "code",
   "execution_count": null,
   "metadata": {},
   "outputs": [],
   "source": []
  }
 ]
}