{
 "metadata": {
  "language_info": {
   "codemirror_mode": {
    "name": "ipython",
    "version": 3
   },
   "file_extension": ".py",
   "mimetype": "text/x-python",
   "name": "python",
   "nbconvert_exporter": "python",
   "pygments_lexer": "ipython3",
   "version": 3
  },
  "orig_nbformat": 2,
  "kernelspec": {
   "name": "python_defaultSpec_1596446900807",
   "display_name": "Python 3.7.6 64-bit ('base': conda)"
  }
 },
 "nbformat": 4,
 "nbformat_minor": 2,
 "cells": [
  {
   "cell_type": "code",
   "execution_count": 4,
   "metadata": {},
   "outputs": [],
   "source": [
    "import jsonlines\n",
    "import re\n",
    "import json"
   ]
  },
  {
   "cell_type": "code",
   "execution_count": 5,
   "metadata": {},
   "outputs": [],
   "source": [
    "for name in ['business','economics','finance','information','news']:\n",
    "    with open('D:/repositories/DaChuang/data/teachers/teachers_{}_pro.json'.format(name),'r',encoding='utf-8') as f:\n",
    "        g = open('teachers_{}.json'.format(name),'w',encoding='utf-8')\n",
    "        for item in jsonlines.Reader(f):\n",
    "            try:\n",
    "                email = item['email']\n",
    "                email_p = re.sub(' ','',email)\n",
    "                email_p = re.sub('AT','@',email_p)\n",
    "            except:\n",
    "                pass\n",
    "            line = json.dumps(dict(item),ensure_ascii=False)+'\\n'\n",
    "            g.write(line)"
   ]
  },
  {
   "cell_type": "code",
   "execution_count": null,
   "metadata": {},
   "outputs": [],
   "source": []
  }
 ]
}