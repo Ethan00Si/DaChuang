{
 "metadata": {
  "language_info": {
   "codemirror_mode": {
    "name": "ipython",
    "version": 3
   },
   "file_extension": ".py",
   "mimetype": "text/x-python",
   "name": "python",
   "nbconvert_exporter": "python",
   "pygments_lexer": "ipython3",
   "version": 3
  },
  "orig_nbformat": 2,
  "kernelspec": {
   "name": "python_defaultSpec_1596542292882",
   "display_name": "Python 3.7.6 64-bit ('base': conda)"
  }
 },
 "nbformat": 4,
 "nbformat_minor": 2,
 "cells": [
  {
   "cell_type": "code",
   "execution_count": null,
   "metadata": {},
   "outputs": [],
   "source": [
    "from gensim.models import Word2Vec\n",
    "from gensim.utils import simple_preprocess\n",
    "import jsonlines\n",
    "import pandas\n",
    "import jieba\n",
    "import re\n",
    "from embedding import getStopList"
   ]
  },
  {
   "cell_type": "code",
   "execution_count": null,
   "metadata": {},
   "outputs": [],
   "source": [
    "data_web = pandas.read_excel(r'D:\\repositories\\DaChuang\\data\\news_each_school\\info_output.xlsx').astype(str)"
   ]
  },
  {
   "cell_type": "code",
   "execution_count": null,
   "metadata": {},
   "outputs": [],
   "source": [
    "data_wx = pandas.read_csv(r'D:\\repositories\\DaChuang\\data\\公众号\\ruc_info.csv').astype(str)"
   ]
  },
  {
   "cell_type": "code",
   "execution_count": 19,
   "metadata": {},
   "outputs": [
    {
     "output_type": "execute_result",
     "data": {
      "text/plain": "            发布时间               来源  \\\n0     2020-07-20  info.ruc.edu.cn   \n1     2020-07-19  info.ruc.edu.cn   \n2     2020-07-17  info.ruc.edu.cn   \n3     2020-07-13  info.ruc.edu.cn   \n4     2020-07-04  info.ruc.edu.cn   \n...          ...              ...   \n4635         NaT  info.ruc.edu.cn   \n4636         NaT  info.ruc.edu.cn   \n4637         NaT  info.ruc.edu.cn   \n4638         NaT  info.ruc.edu.cn   \n4639         NaT  info.ruc.edu.cn   \n\n                                                     链接  \\\n0     http://info.ruc.edu.cn/news_convert_detail.php...   \n1     http://info.ruc.edu.cn/news_convert_detail.php...   \n2     http://info.ruc.edu.cn/notice_convert_detail.p...   \n3     http://info.ruc.edu.cn/news_convert_detail.php...   \n4      http://info.ruc.edu.cn/notice_detail.php?id=2067   \n...                                                 ...   \n4635  http://info.ruc.edu.cn/overview_structure_intr...   \n4636  http://info.ruc.edu.cn/academic_research_lab_d...   \n4637  http://info.ruc.edu.cn/youth_organization_intr...   \n4638       http://info.ruc.edu.cn/video_detail.php?id=9   \n4639  http://info.ruc.edu.cn/academic_research_lab_d...   \n\n                                                标题  \\\n0     杜小勇教授受邀参加四川大学“课程思政|计算机专业课教学模式探索与启示研讨会”并作主题报告   \n1                       李锡荣老师受邀担任多媒体领域国际一流期刊TOMM编委   \n2                      2020年中国人民大学信息学院优秀大学生夏令营获奖名单   \n3                            信息学院2020年优秀大学生夏令营顺利举办   \n4                                信息学院2020年拟录取博士生名单   \n...                                            ...   \n4635                                     计算机科学与技术系   \n4636                                        信息系统团队   \n4637                                          ACM队   \n4638                        走在时代前列——信息学院01级校友李毅聊创业   \n4639                                  系统与信息安全研究实验室   \n\n                                                     正文  \n0     7月8日下午14时，四川大学计算机学院举行“课程思政|计算机专业课教学模式探索与启示研讨会”...  \n1     信息学院李锡荣老师受邀担任国际期刊TOMM编委（AssociateEditor），任期为20...  \n2     2020年7月8日至12日，来自全国各高校的优秀大学生与中国人民大学信息学院的硕士导师和博士...  \n3     2020年7月8日至7月12日，中国人民大学信息学院2020年优秀大学生夏令营顺利召开。在今...  \n4                                请见附件：信息学院2020年拟录取博士生名单  \n...                                                 ...  \n4635  计算机科学与技术系\\n中国人民大学计算机学科始建于1978年，具有30余年的历史，早在198...  \n4636  信息系统团队\\n信息系统团队（知识管理与人机交互实验室）是左美云教授领导、许伟副教授和余艳老...  \n4637  ACM队\\nACM－ICPC（国际大学生程序设计竞赛）是由ACM(美国计算机协会)组织的每年...  \n4638  个人简介 李毅，中国人民大学信息学院2001级学士，北京大学硕士，曾在微软亚洲工程院工作，于...  \n4639  系统与信息安全研究实验室\\nISeR实验室成立于2008年，其全称是“Information...  \n\n[4640 rows x 5 columns]",
      "text/html": "<div>\n<style scoped>\n    .dataframe tbody tr th:only-of-type {\n        vertical-align: middle;\n    }\n\n    .dataframe tbody tr th {\n        vertical-align: top;\n    }\n\n    .dataframe thead th {\n        text-align: right;\n    }\n</style>\n<table border=\"1\" class=\"dataframe\">\n  <thead>\n    <tr style=\"text-align: right;\">\n      <th></th>\n      <th>发布时间</th>\n      <th>来源</th>\n      <th>链接</th>\n      <th>标题</th>\n      <th>正文</th>\n    </tr>\n  </thead>\n  <tbody>\n    <tr>\n      <th>0</th>\n      <td>2020-07-20</td>\n      <td>info.ruc.edu.cn</td>\n      <td>http://info.ruc.edu.cn/news_convert_detail.php...</td>\n      <td>杜小勇教授受邀参加四川大学“课程思政|计算机专业课教学模式探索与启示研讨会”并作主题报告</td>\n      <td>7月8日下午14时，四川大学计算机学院举行“课程思政|计算机专业课教学模式探索与启示研讨会”...</td>\n    </tr>\n    <tr>\n      <th>1</th>\n      <td>2020-07-19</td>\n      <td>info.ruc.edu.cn</td>\n      <td>http://info.ruc.edu.cn/news_convert_detail.php...</td>\n      <td>李锡荣老师受邀担任多媒体领域国际一流期刊TOMM编委</td>\n      <td>信息学院李锡荣老师受邀担任国际期刊TOMM编委（AssociateEditor），任期为20...</td>\n    </tr>\n    <tr>\n      <th>2</th>\n      <td>2020-07-17</td>\n      <td>info.ruc.edu.cn</td>\n      <td>http://info.ruc.edu.cn/notice_convert_detail.p...</td>\n      <td>2020年中国人民大学信息学院优秀大学生夏令营获奖名单</td>\n      <td>2020年7月8日至12日，来自全国各高校的优秀大学生与中国人民大学信息学院的硕士导师和博士...</td>\n    </tr>\n    <tr>\n      <th>3</th>\n      <td>2020-07-13</td>\n      <td>info.ruc.edu.cn</td>\n      <td>http://info.ruc.edu.cn/news_convert_detail.php...</td>\n      <td>信息学院2020年优秀大学生夏令营顺利举办</td>\n      <td>2020年7月8日至7月12日，中国人民大学信息学院2020年优秀大学生夏令营顺利召开。在今...</td>\n    </tr>\n    <tr>\n      <th>4</th>\n      <td>2020-07-04</td>\n      <td>info.ruc.edu.cn</td>\n      <td>http://info.ruc.edu.cn/notice_detail.php?id=2067</td>\n      <td>信息学院2020年拟录取博士生名单</td>\n      <td>请见附件：信息学院2020年拟录取博士生名单</td>\n    </tr>\n    <tr>\n      <th>...</th>\n      <td>...</td>\n      <td>...</td>\n      <td>...</td>\n      <td>...</td>\n      <td>...</td>\n    </tr>\n    <tr>\n      <th>4635</th>\n      <td>NaT</td>\n      <td>info.ruc.edu.cn</td>\n      <td>http://info.ruc.edu.cn/overview_structure_intr...</td>\n      <td>计算机科学与技术系</td>\n      <td>计算机科学与技术系\\n中国人民大学计算机学科始建于1978年，具有30余年的历史，早在198...</td>\n    </tr>\n    <tr>\n      <th>4636</th>\n      <td>NaT</td>\n      <td>info.ruc.edu.cn</td>\n      <td>http://info.ruc.edu.cn/academic_research_lab_d...</td>\n      <td>信息系统团队</td>\n      <td>信息系统团队\\n信息系统团队（知识管理与人机交互实验室）是左美云教授领导、许伟副教授和余艳老...</td>\n    </tr>\n    <tr>\n      <th>4637</th>\n      <td>NaT</td>\n      <td>info.ruc.edu.cn</td>\n      <td>http://info.ruc.edu.cn/youth_organization_intr...</td>\n      <td>ACM队</td>\n      <td>ACM队\\nACM－ICPC（国际大学生程序设计竞赛）是由ACM(美国计算机协会)组织的每年...</td>\n    </tr>\n    <tr>\n      <th>4638</th>\n      <td>NaT</td>\n      <td>info.ruc.edu.cn</td>\n      <td>http://info.ruc.edu.cn/video_detail.php?id=9</td>\n      <td>走在时代前列——信息学院01级校友李毅聊创业</td>\n      <td>个人简介 李毅，中国人民大学信息学院2001级学士，北京大学硕士，曾在微软亚洲工程院工作，于...</td>\n    </tr>\n    <tr>\n      <th>4639</th>\n      <td>NaT</td>\n      <td>info.ruc.edu.cn</td>\n      <td>http://info.ruc.edu.cn/academic_research_lab_d...</td>\n      <td>系统与信息安全研究实验室</td>\n      <td>系统与信息安全研究实验室\\nISeR实验室成立于2008年，其全称是“Information...</td>\n    </tr>\n  </tbody>\n</table>\n<p>4640 rows × 5 columns</p>\n</div>"
     },
     "metadata": {},
     "execution_count": 19
    }
   ],
   "source": [
    "data_web"
   ]
  },
  {
   "cell_type": "code",
   "execution_count": 20,
   "metadata": {},
   "outputs": [],
   "source": [
    "for index,content in enumerate(data_wx['content']):\n",
    "    data_wx.loc[index,'content'] = re.sub('nan','',data_wx.loc[index,'content']).strip()\n",
    "\n",
    "for index,content in enumerate(data_web['正文']):\n",
    "    data_web.loc[index,'正文'] = data_web.loc[index,'正文'].strip()"
   ]
  },
  {
   "cell_type": "code",
   "execution_count": null,
   "metadata": {},
   "outputs": [],
   "source": [
    "data_web"
   ]
  },
  {
   "cell_type": "code",
   "execution_count": 21,
   "metadata": {},
   "outputs": [],
   "source": [
    "data = pandas.concat([data_web.正文,data_wx.content])"
   ]
  },
  {
   "cell_type": "code",
   "execution_count": 10,
   "metadata": {},
   "outputs": [],
   "source": [
    "stop = getStopList()"
   ]
  },
  {
   "cell_type": "code",
   "execution_count": null,
   "metadata": {},
   "outputs": [],
   "source": [
    "stop"
   ]
  },
  {
   "cell_type": "code",
   "execution_count": 11,
   "metadata": {
    "tags": []
   },
   "outputs": [
    {
     "output_type": "stream",
     "name": "stderr",
     "text": "Building prefix dict from the default dictionary ...\nLoading model from cache C:\\Users\\Pt\\AppData\\Local\\Temp\\jieba.cache\nLoading model cost 0.789 seconds.\nPrefix dict has been built successfully.\n"
    }
   ],
   "source": [
    "jieba.load_userdict(r'dictionary.txt')"
   ]
  },
  {
   "cell_type": "code",
   "execution_count": 22,
   "metadata": {
    "tags": []
   },
   "outputs": [],
   "source": [
    "corpus=[]\n",
    "for sentence in data:\n",
    "    #line = []\n",
    "    segment = jieba.cut(sentence)\n",
    "    seg = [word for word in list(segment) if word not in stop]\n",
    "    \n",
    "    #for word in simple_preprocess(seg,deacc=True,min_len=1):\n",
    "    #    if word not in stop:\n",
    "    #        line.append(word)\n",
    "    corpus.append(seg)     "
   ]
  },
  {
   "cell_type": "code",
   "execution_count": 23,
   "metadata": {},
   "outputs": [],
   "source": [
    "with open(r'D:\\repositories\\DaChuang\\data\\teachers\\teachers_information.json','r',encoding='utf-8') as f:\n",
    "    for teacher in jsonlines.Reader(f):\n",
    "        line = []\n",
    "        line.append(teacher['department'])\n",
    "        line.append(teacher['name'])\n",
    "        try:\n",
    "            line+=teacher['major']\n",
    "        except:\n",
    "            pass\n",
    "        corpus.append(line)"
   ]
  },
  {
   "cell_type": "code",
   "execution_count": 27,
   "metadata": {},
   "outputs": [
    {
     "output_type": "execute_result",
     "data": {
      "text/plain": "['信息',\n '学院',\n '李锡荣',\n '老师',\n '受邀',\n '担任',\n '国际',\n '期刊',\n 'TOMM',\n '编委',\n 'AssociateEditor',\n '任期',\n '2020',\n '年',\n '2023',\n '年',\n 'TOMM',\n '全',\n '称为',\n 'ACMTransactionsonMultimediaComputing',\n 'CommunicationsandApplications',\n '国际',\n '计算机',\n '学会',\n 'ACM',\n '会刊',\n 'TOMM',\n '发表',\n '多媒体',\n '计算',\n '通信',\n '相关',\n '学术论文',\n '多媒体',\n '领域',\n '国际',\n '一流',\n '刊物',\n '中国计算机学会',\n 'CCF',\n '推荐',\n 'B',\n '类',\n '期刊',\n '李锡荣',\n '老师',\n '长期',\n '多媒体',\n '计算',\n '方向',\n '科研工作',\n '研究',\n '主题',\n '包括',\n '跨媒体',\n '感知',\n '学习',\n '推理',\n '示例',\n '视频',\n '检索',\n '跨',\n '语言',\n '图像',\n '描述',\n '检索',\n '模态',\n '医学影像',\n '分析',\n 'ACMSIGMM',\n '杰出',\n '博士论文',\n '奖',\n 'IEEETransactionsonMultimedia',\n '最佳',\n '论文',\n '奖',\n 'ACMMMGrandChallengeAward',\n '中国',\n '多媒体',\n '大会',\n '优秀论文',\n '奖',\n '多个',\n '学术',\n '奖项',\n '多媒体',\n '领域',\n '国际',\n '期刊',\n 'MultimediaSystems',\n 'CCFC',\n '类',\n '编委']"
     },
     "metadata": {},
     "execution_count": 27
    }
   ],
   "source": [
    "corpus[1]"
   ]
  },
  {
   "cell_type": "code",
   "execution_count": 29,
   "metadata": {},
   "outputs": [],
   "source": [
    "g = open(r'corpus.txt','w',encoding='utf-8')\n",
    "for sentence in corpus:\n",
    "    line = ' '.join(sentence)\n",
    "    g.write(line+'\\n')"
   ]
  },
  {
   "cell_type": "code",
   "execution_count": 30,
   "metadata": {},
   "outputs": [],
   "source": [
    "g.close()"
   ]
  },
  {
   "cell_type": "code",
   "execution_count": 25,
   "metadata": {},
   "outputs": [],
   "source": [
    "w2v_model = Word2Vec(corpus, size=100, min_count=1, workers=16)"
   ]
  },
  {
   "cell_type": "code",
   "execution_count": 33,
   "metadata": {},
   "outputs": [],
   "source": [
    "w2v_model.save('word_embeddings_information.model')"
   ]
  },
  {
   "cell_type": "code",
   "execution_count": null,
   "metadata": {},
   "outputs": [],
   "source": [
    "w2v_model.wv.similarity('窦志成','信息检索')"
   ]
  },
  {
   "cell_type": "code",
   "execution_count": null,
   "metadata": {},
   "outputs": [],
   "source": [
    "w2v_model.most_similar('信息学院')"
   ]
  },
  {
   "cell_type": "code",
   "execution_count": null,
   "metadata": {},
   "outputs": [],
   "source": [
    "w2v_model.most_similar('徐君')"
   ]
  },
  {
   "cell_type": "code",
   "execution_count": null,
   "metadata": {},
   "outputs": [],
   "source": [
    "w2v_model.most_similar('深度学习')"
   ]
  },
  {
   "cell_type": "code",
   "execution_count": 32,
   "metadata": {},
   "outputs": [
    {
     "output_type": "execute_result",
     "data": {
      "text/plain": "[('积极参与', 0.776221752166748),\n ('面对面', 0.7721493244171143),\n ('动员', 0.7711633443832397),\n ('分享会', 0.7568238973617554),\n ('交流会', 0.7497802972793579),\n ('访谈', 0.7495060563087463),\n ('活动', 0.7465742826461792),\n ('互动', 0.7427768111228943),\n ('座谈会', 0.7414224743843079),\n ('自由', 0.7390368580818176)]"
     },
     "metadata": {},
     "execution_count": 32
    }
   ],
   "source": [
    "w2v_model.most_similar('宣讲')"
   ]
  },
  {
   "cell_type": "code",
   "execution_count": null,
   "metadata": {},
   "outputs": [],
   "source": [
    "w2v_model.most_similar('明德楼')"
   ]
  },
  {
   "cell_type": "code",
   "execution_count": null,
   "metadata": {},
   "outputs": [],
   "source": [
    "w2v_model.most_similar('SIGIR')"
   ]
  },
  {
   "cell_type": "code",
   "execution_count": null,
   "metadata": {},
   "outputs": [],
   "source": [
    "w2v_model['徐君']"
   ]
  },
  {
   "cell_type": "code",
   "execution_count": null,
   "metadata": {},
   "outputs": [],
   "source": []
  }
 ]
}