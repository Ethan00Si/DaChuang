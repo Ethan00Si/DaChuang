{
 "metadata": {
  "language_info": {
   "codemirror_mode": {
    "name": "ipython",
    "version": 3
   },
   "file_extension": ".py",
   "mimetype": "text/x-python",
   "name": "python",
   "nbconvert_exporter": "python",
   "pygments_lexer": "ipython3",
   "version": 3
  },
  "orig_nbformat": 2,
  "kernelspec": {
   "name": "python_defaultSpec_1596698801796",
   "display_name": "Python 3.7.6 64-bit ('base': conda)"
  }
 },
 "nbformat": 4,
 "nbformat_minor": 2,
 "cells": [
  {
   "cell_type": "code",
   "execution_count": 1,
   "metadata": {},
   "outputs": [],
   "source": [
    "from process_data import transform_to_csv,exchange_columns,deleteDup,deleteEmpty"
   ]
  },
  {
   "cell_type": "code",
   "execution_count": null,
   "metadata": {
    "tags": []
   },
   "outputs": [],
   "source": [
    "for path in [r'D:\\repositories\\DaChuang\\data\\news_each_school\\finance_outptut.xlsx',r'D:\\repositories\\DaChuang\\data\\news_each_school\\info_output.xlsx',r'D:\\repositories\\DaChuang\\data\\news_each_school\\journal_outptut.xlsx',r'D:\\repositories\\DaChuang\\data\\news_each_school\\law_outptut.xlsx',r'D:\\repositories\\DaChuang\\data\\news_each_school\\rmbs_outptut.xlsx',\n",
    "r'D:\\repositories\\DaChuang\\data\\news_each_school\\econ_output.xlsx']:\n",
    "    transform_to_csv(path)"
   ]
  },
  {
   "cell_type": "code",
   "execution_count": null,
   "metadata": {},
   "outputs": [],
   "source": [
    "for path in [r'D:\\repositories\\DaChuang\\data\\公众号\\ruc_business.csv',r'D:\\repositories\\DaChuang\\data\\公众号\\ruc_caijing.csv',r'D:\\repositories\\DaChuang\\data\\公众号\\ruc_info.csv',r'D:\\repositories\\DaChuang\\data\\公众号\\ruc_info_qingxie.csv',r'D:\\repositories\\DaChuang\\data\\公众号\\ruc_law.csv',r'D:\\repositories\\DaChuang\\data\\公众号\\ruc_law.csv',r'D:\\repositories\\DaChuang\\data\\公众号\\ruc_news.csv',r'D:\\repositories\\DaChuang\\data\\公众号\\ruc_qingxie.csv',r'D:\\repositories\\DaChuang\\data\\公众号\\ruc_xueshenghui.csv']:\n",
    "    exchange_columns(path)"
   ]
  },
  {
   "cell_type": "code",
   "execution_count": null,
   "metadata": {},
   "outputs": [],
   "source": [
    "for path in [r'D:\\repositories\\DaChuang\\data\\news_each_school\\finance_outptut.csv',r'D:\\repositories\\DaChuang\\data\\news_each_school\\info_output.csv',r'D:\\repositories\\DaChuang\\data\\news_each_school\\journal_outptut.csv',r'D:\\repositories\\DaChuang\\data\\news_each_school\\law_outptut.csv',r'D:\\repositories\\DaChuang\\data\\news_each_school\\rmbs_outptut.csv',\n",
    "r'D:\\repositories\\DaChuang\\data\\news_each_school\\econ_output.csv']:\n",
    "    deleteEmpty(path)"
   ]
  },
  {
   "cell_type": "code",
   "execution_count": 30,
   "metadata": {},
   "outputs": [],
   "source": [
    "for path in [r'D:\\repositories\\DaChuang\\data\\公众号\\ruc_business.csv',r'D:\\repositories\\DaChuang\\data\\公众号\\ruc_caijing.csv',r'D:\\repositories\\DaChuang\\data\\公众号\\ruc_info.csv',r'D:\\repositories\\DaChuang\\data\\公众号\\ruc_info_qingxie.csv',r'D:\\repositories\\DaChuang\\data\\公众号\\ruc_law.csv',r'D:\\repositories\\DaChuang\\data\\公众号\\ruc_law.csv',r'D:\\repositories\\DaChuang\\data\\公众号\\ruc_news.csv',r'D:\\repositories\\DaChuang\\data\\公众号\\ruc_qingxie.csv',r'D:\\repositories\\DaChuang\\data\\公众号\\ruc_xueshenghui.csv']:\n",
    "    deleteEmpty(path)"
   ]
  },
  {
   "cell_type": "code",
   "execution_count": 26,
   "metadata": {},
   "outputs": [],
   "source": [
    "for path in [r'D:\\repositories\\DaChuang\\data\\news_each_school\\finance_output.csv',r'D:\\repositories\\DaChuang\\data\\news_each_school\\info_output.csv',r'D:\\repositories\\DaChuang\\data\\news_each_school\\journal_output.csv',r'D:\\repositories\\DaChuang\\data\\news_each_school\\law_output.csv',r'D:\\repositories\\DaChuang\\data\\news_each_school\\rmbs_output.csv',\n",
    "r'D:\\repositories\\DaChuang\\data\\news_each_school\\econ_output.csv']:\n",
    "    deleteDup(path)"
   ]
  },
  {
   "cell_type": "code",
   "execution_count": 27,
   "metadata": {},
   "outputs": [],
   "source": [
    "for path in [r'D:\\repositories\\DaChuang\\data\\公众号\\ruc_business.csv',r'D:\\repositories\\DaChuang\\data\\公众号\\ruc_caijing.csv',r'D:\\repositories\\DaChuang\\data\\公众号\\ruc_info.csv',r'D:\\repositories\\DaChuang\\data\\公众号\\ruc_info_qingxie.csv',r'D:\\repositories\\DaChuang\\data\\公众号\\ruc_law.csv',r'D:\\repositories\\DaChuang\\data\\公众号\\ruc_law.csv',r'D:\\repositories\\DaChuang\\data\\公众号\\ruc_news.csv',r'D:\\repositories\\DaChuang\\data\\公众号\\ruc_qingxie.csv',r'D:\\repositories\\DaChuang\\data\\公众号\\ruc_xueshenghui.csv']:\n",
    "    deleteDup(path)"
   ]
  },
  {
   "cell_type": "code",
   "execution_count": null,
   "metadata": {},
   "outputs": [],
   "source": []
  }
 ]
}