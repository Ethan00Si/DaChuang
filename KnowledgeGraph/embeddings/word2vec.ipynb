{
 "metadata": {
  "language_info": {
   "codemirror_mode": {
    "name": "ipython",
    "version": 3
   },
   "file_extension": ".py",
   "mimetype": "text/x-python",
   "name": "python",
   "nbconvert_exporter": "python",
   "pygments_lexer": "ipython3",
   "version": 3
  },
  "orig_nbformat": 2,
  "kernelspec": {
   "name": "python_defaultSpec_1596694929631",
   "display_name": "Python 3.7.6 64-bit ('base': conda)"
  }
 },
 "nbformat": 4,
 "nbformat_minor": 2,
 "cells": [
  {
   "cell_type": "code",
   "execution_count": 4,
   "metadata": {},
   "outputs": [],
   "source": [
    "from gensim.models import Word2Vec\n",
    "from gensim.utils import simple_preprocess\n",
    "import jsonlines\n",
    "import pandas\n",
    "import jieba\n",
    "import re\n",
    "import embedding\n",
    "import numpy"
   ]
  },
  {
   "cell_type": "code",
   "execution_count": 2,
   "metadata": {},
   "outputs": [],
   "source": [
    "#embedding.mergeDict() #生成字典，不需要执行"
   ]
  },
  {
   "cell_type": "code",
   "execution_count": 67,
   "metadata": {},
   "outputs": [],
   "source": [
    "data_web = pandas.read_csv(r'D:\\repositories\\DaChuang\\data\\news_each_school\\law_output.csv')"
   ]
  },
  {
   "cell_type": "code",
   "execution_count": 90,
   "metadata": {},
   "outputs": [],
   "source": [
    "data_wx = pandas.read_csv(r'D:\\repositories\\DaChuang\\data\\公众号\\ruc_caijing.csv')"
   ]
  },
  {
   "cell_type": "code",
   "execution_count": 46,
   "metadata": {},
   "outputs": [],
   "source": [
    "data = pandas.concat([data_web,data_wx])"
   ]
  },
  {
   "cell_type": "code",
   "execution_count": 47,
   "metadata": {},
   "outputs": [
    {
     "output_type": "execute_result",
     "data": {
      "text/plain": "       datetime           source  \\\n0    2020-07-20  econ.ruc.edu.cn   \n1    2020-07-20  econ.ruc.edu.cn   \n2    2020-07-20  econ.ruc.edu.cn   \n3    2020-07-20  econ.ruc.edu.cn   \n4    2020-07-20  econ.ruc.edu.cn   \n..          ...              ...   \n744  2019-01-22             商苑经纬   \n745  2019-01-22             商苑经纬   \n746  2019-01-19             商苑经纬   \n747  2019-01-11             商苑经纬   \n748  2019-01-01             商苑经纬   \n\n                                                   url  \\\n0    http://econ.ruc.edu.cn/kxyj/xssx/b39bc18e9f474...   \n1    http://econ.ruc.edu.cn/kxyj/xssx/993a1cf7fc214...   \n2    http://econ.ruc.edu.cn/kxyj/xssx/7c95ce6a2ebf4...   \n3    http://econ.ruc.edu.cn/kxyj/xssx/36ea81c4c3ba4...   \n4    http://econ.ruc.edu.cn/kxyj/xssx/87f35c67296d4...   \n..                                                 ...   \n744  http://mp.weixin.qq.com/s?__biz=MzA4MjE0OTcyMQ...   \n745  http://mp.weixin.qq.com/s?__biz=MzA4MjE0OTcyMQ...   \n746  http://mp.weixin.qq.com/s?__biz=MzA4MjE0OTcyMQ...   \n747  http://mp.weixin.qq.com/s?__biz=MzA4MjE0OTcyMQ...   \n748  http://mp.weixin.qq.com/s?__biz=MzA4MjE0OTcyMQ...   \n\n                                               title  \\\n0                              【光明日报】刘守英：中国农业的转型与现代化   \n1                      【澎湃新闻】于泽：如何理解“两会”应对疫情的一揽子政策方案   \n2                      【中国证券报】刘元春：稳定经济基本盘，有效挖掘释放内需潜力   \n3                    【中国宏观经济论坛】陈彦斌：稳增长过于依赖房地产会加剧经济分化   \n4                       【网易研究局】刘元春：美股走向与疫情基本面的背离越来越大   \n..                                               ...   \n744                                    人在人大，寒假怎么“盘”？   \n745                   推广 |【微讲座】寒假系列-伯克利学姐解析金工申请与金融实习   \n746                      商国际 | 2019秋季院级交换项目系列分享会即将来袭   \n747  关于启动中国人民大学商学院第十三届“管理之星”创业计划大赛暨第十五届学生课外学术论文大赛的通知   \n748                   Jan.1 宜继往开来 | 快来pick你的9102第一签！   \n\n                                               content  \n0    新中国成立70多年来，伴随国家的现代化进程，农业现代化取得重大进展。当前，伴随着经济发展从高...  \n1    刚刚闭幕的全国“两会”实质性地提出了我国应对新冠肺炎疫情的一揽子政策方案。当前还存在着对政策...  \n2    中国人民大学副校长刘元春近日接受中国证券报记者专访时表示，当前要以内部经济大循环为主体，快速...  \n3    回顾过去二十多年我国宏观经济运行与房地产调控历程，一个很清晰的事实是每当经济下行压力较大时，...  \n4    美国金融与疫情基本面的背离越来越大对于近期的剧烈波动，首先要明白，当下层面与基本面的背离越来...  \n..                                                 ...  \n744  终于“熬”过了“考试粥”，还要接着为考研实习奋战？图书馆啥时候开？什么时候能吃汇贤饺子？哪能...  \n745  讲座嘉宾C学姐清华经管本科，法律双学位在18申请季中获得加州大学伯克利分校金融工程硕士录取，...  \n746  期待已久假期已经开始！与此同时，新一轮的国际交换项目申请也即将来袭！各项目院校都有哪些让人眼...  \n747  赛事简介中国人民大学商学院“管理之星”创业计划大赛暨学生课外学术论文大赛是由商学院团委主办的...  \n748  2018的我们，在朋友圈疯狂转发锦鲤躲过了杠精的疯狂抬杠见证了明星的官宣尝试着燃烧卡路里心境...  \n\n[7575 rows x 5 columns]",
      "text/html": "<div>\n<style scoped>\n    .dataframe tbody tr th:only-of-type {\n        vertical-align: middle;\n    }\n\n    .dataframe tbody tr th {\n        vertical-align: top;\n    }\n\n    .dataframe thead th {\n        text-align: right;\n    }\n</style>\n<table border=\"1\" class=\"dataframe\">\n  <thead>\n    <tr style=\"text-align: right;\">\n      <th></th>\n      <th>datetime</th>\n      <th>source</th>\n      <th>url</th>\n      <th>title</th>\n      <th>content</th>\n    </tr>\n  </thead>\n  <tbody>\n    <tr>\n      <th>0</th>\n      <td>2020-07-20</td>\n      <td>econ.ruc.edu.cn</td>\n      <td>http://econ.ruc.edu.cn/kxyj/xssx/b39bc18e9f474...</td>\n      <td>【光明日报】刘守英：中国农业的转型与现代化</td>\n      <td>新中国成立70多年来，伴随国家的现代化进程，农业现代化取得重大进展。当前，伴随着经济发展从高...</td>\n    </tr>\n    <tr>\n      <th>1</th>\n      <td>2020-07-20</td>\n      <td>econ.ruc.edu.cn</td>\n      <td>http://econ.ruc.edu.cn/kxyj/xssx/993a1cf7fc214...</td>\n      <td>【澎湃新闻】于泽：如何理解“两会”应对疫情的一揽子政策方案</td>\n      <td>刚刚闭幕的全国“两会”实质性地提出了我国应对新冠肺炎疫情的一揽子政策方案。当前还存在着对政策...</td>\n    </tr>\n    <tr>\n      <th>2</th>\n      <td>2020-07-20</td>\n      <td>econ.ruc.edu.cn</td>\n      <td>http://econ.ruc.edu.cn/kxyj/xssx/7c95ce6a2ebf4...</td>\n      <td>【中国证券报】刘元春：稳定经济基本盘，有效挖掘释放内需潜力</td>\n      <td>中国人民大学副校长刘元春近日接受中国证券报记者专访时表示，当前要以内部经济大循环为主体，快速...</td>\n    </tr>\n    <tr>\n      <th>3</th>\n      <td>2020-07-20</td>\n      <td>econ.ruc.edu.cn</td>\n      <td>http://econ.ruc.edu.cn/kxyj/xssx/36ea81c4c3ba4...</td>\n      <td>【中国宏观经济论坛】陈彦斌：稳增长过于依赖房地产会加剧经济分化</td>\n      <td>回顾过去二十多年我国宏观经济运行与房地产调控历程，一个很清晰的事实是每当经济下行压力较大时，...</td>\n    </tr>\n    <tr>\n      <th>4</th>\n      <td>2020-07-20</td>\n      <td>econ.ruc.edu.cn</td>\n      <td>http://econ.ruc.edu.cn/kxyj/xssx/87f35c67296d4...</td>\n      <td>【网易研究局】刘元春：美股走向与疫情基本面的背离越来越大</td>\n      <td>美国金融与疫情基本面的背离越来越大对于近期的剧烈波动，首先要明白，当下层面与基本面的背离越来...</td>\n    </tr>\n    <tr>\n      <th>...</th>\n      <td>...</td>\n      <td>...</td>\n      <td>...</td>\n      <td>...</td>\n      <td>...</td>\n    </tr>\n    <tr>\n      <th>744</th>\n      <td>2019-01-22</td>\n      <td>商苑经纬</td>\n      <td>http://mp.weixin.qq.com/s?__biz=MzA4MjE0OTcyMQ...</td>\n      <td>人在人大，寒假怎么“盘”？</td>\n      <td>终于“熬”过了“考试粥”，还要接着为考研实习奋战？图书馆啥时候开？什么时候能吃汇贤饺子？哪能...</td>\n    </tr>\n    <tr>\n      <th>745</th>\n      <td>2019-01-22</td>\n      <td>商苑经纬</td>\n      <td>http://mp.weixin.qq.com/s?__biz=MzA4MjE0OTcyMQ...</td>\n      <td>推广 |【微讲座】寒假系列-伯克利学姐解析金工申请与金融实习</td>\n      <td>讲座嘉宾C学姐清华经管本科，法律双学位在18申请季中获得加州大学伯克利分校金融工程硕士录取，...</td>\n    </tr>\n    <tr>\n      <th>746</th>\n      <td>2019-01-19</td>\n      <td>商苑经纬</td>\n      <td>http://mp.weixin.qq.com/s?__biz=MzA4MjE0OTcyMQ...</td>\n      <td>商国际 | 2019秋季院级交换项目系列分享会即将来袭</td>\n      <td>期待已久假期已经开始！与此同时，新一轮的国际交换项目申请也即将来袭！各项目院校都有哪些让人眼...</td>\n    </tr>\n    <tr>\n      <th>747</th>\n      <td>2019-01-11</td>\n      <td>商苑经纬</td>\n      <td>http://mp.weixin.qq.com/s?__biz=MzA4MjE0OTcyMQ...</td>\n      <td>关于启动中国人民大学商学院第十三届“管理之星”创业计划大赛暨第十五届学生课外学术论文大赛的通知</td>\n      <td>赛事简介中国人民大学商学院“管理之星”创业计划大赛暨学生课外学术论文大赛是由商学院团委主办的...</td>\n    </tr>\n    <tr>\n      <th>748</th>\n      <td>2019-01-01</td>\n      <td>商苑经纬</td>\n      <td>http://mp.weixin.qq.com/s?__biz=MzA4MjE0OTcyMQ...</td>\n      <td>Jan.1 宜继往开来 | 快来pick你的9102第一签！</td>\n      <td>2018的我们，在朋友圈疯狂转发锦鲤躲过了杠精的疯狂抬杠见证了明星的官宣尝试着燃烧卡路里心境...</td>\n    </tr>\n  </tbody>\n</table>\n<p>7575 rows × 5 columns</p>\n</div>"
     },
     "metadata": {},
     "execution_count": 47
    }
   ],
   "source": [
    "data"
   ]
  },
  {
   "cell_type": "code",
   "execution_count": null,
   "metadata": {},
   "outputs": [],
   "source": [
    "#拼接\n",
    "data = pandas.concat([data_web.正文,data_wx.content,data_web.标题,data_wx.title])"
   ]
  },
  {
   "cell_type": "markdown",
   "metadata": {},
   "source": [
    "## 以下是训练word2vec的内容"
   ]
  },
  {
   "cell_type": "code",
   "execution_count": null,
   "metadata": {},
   "outputs": [],
   "source": [
    "stop = embedding.getStopList()"
   ]
  },
  {
   "cell_type": "code",
   "execution_count": null,
   "metadata": {},
   "outputs": [],
   "source": [
    "corpus = embedding.getCorpus() 获得语料"
   ]
  },
  {
   "cell_type": "code",
   "execution_count": null,
   "metadata": {
    "tags": []
   },
   "outputs": [],
   "source": [
    "jieba.load_userdict('../data/语料/dictionary.txt')"
   ]
  },
  {
   "cell_type": "code",
   "execution_count": null,
   "metadata": {
    "tags": []
   },
   "outputs": [],
   "source": [
    "corpus=[]\n",
    "for sentence in data:\n",
    "    #line = []\n",
    "    segment = jieba.cut(sentence)\n",
    "    seg = [word for word in list(segment) if word not in stop]\n",
    "    \n",
    "    #for word in simple_preprocess(seg,deacc=True,min_len=1):\n",
    "    #    if word not in stop:\n",
    "    #        line.append(word)\n",
    "    corpus.append(seg)     "
   ]
  },
  {
   "cell_type": "code",
   "execution_count": null,
   "metadata": {},
   "outputs": [],
   "source": [
    "with open(r'D:\\repositories\\DaChuang\\data\\teachers\\teachers_information.json','r',encoding='utf-8') as f:\n",
    "    for teacher in jsonlines.Reader(f):\n",
    "        line = []\n",
    "        line.append(teacher['department'])\n",
    "        line.append(teacher['name'])\n",
    "        try:\n",
    "            line+=teacher['major']\n",
    "        except:\n",
    "            pass\n",
    "        corpus.append(line)"
   ]
  },
  {
   "cell_type": "code",
   "execution_count": null,
   "metadata": {},
   "outputs": [],
   "source": [
    "#输出语料\n",
    "g = open(r'D:\\codes\\Pt_MarkDown\\大创\\data\\corpus_information.txt','w',encoding='utf-8')\n",
    "for sentence in corpus:\n",
    "    line = ' '.join(sentence)\n",
    "    g.write(line+'\\n')\n",
    "g.close()"
   ]
  },
  {
   "cell_type": "code",
   "execution_count": null,
   "metadata": {},
   "outputs": [],
   "source": [
    "#统计关键词数量小于2的文档数\n",
    "dictionary = embedding.getDict()\n",
    "count_g = 0\n",
    "docs = []\n",
    "for doc in corpus:\n",
    "    count = 0\n",
    "    for word in doc:\n",
    "        if word in dictionary:\n",
    "            count+=1\n",
    "    if count < 2:\n",
    "        docs.append(doc)\n",
    "        count_g += 1"
   ]
  },
  {
   "cell_type": "code",
   "execution_count": null,
   "metadata": {},
   "outputs": [],
   "source": [
    "docs[2]"
   ]
  },
  {
   "cell_type": "code",
   "execution_count": 41,
   "metadata": {},
   "outputs": [],
   "source": [
    "#训练模型\n",
    "w2v_model = Word2Vec(corpus, size=100, min_count=1, workers=16)"
   ]
  },
  {
   "cell_type": "code",
   "execution_count": 42,
   "metadata": {},
   "outputs": [],
   "source": [
    "w2v_model.save(r'D:\\codes\\Pt_MarkDown\\大创\\data\\word_embeddings_information.model')"
   ]
  },
  {
   "cell_type": "code",
   "execution_count": 43,
   "metadata": {},
   "outputs": [
    {
     "output_type": "execute_result",
     "data": {
      "text/plain": "0.5212252"
     },
     "metadata": {},
     "execution_count": 43
    }
   ],
   "source": [
    "w2v_model.wv.similarity('窦志成','信息检索')"
   ]
  },
  {
   "cell_type": "code",
   "execution_count": 44,
   "metadata": {},
   "outputs": [
    {
     "output_type": "execute_result",
     "data": {
      "text/plain": "[('我院', 0.6962107419967651),\n ('全院', 0.6765086650848389),\n ('秋冬季', 0.6276863813400269),\n ('座谈会', 0.6230578422546387),\n ('第六次', 0.6109772324562073),\n ('一个系列', 0.608765721321106),\n ('表示祝贺', 0.6076531410217285),\n ('数学系', 0.6065365076065063),\n ('人民大学', 0.5948217511177063),\n ('顺利', 0.5932497978210449)]"
     },
     "metadata": {},
     "execution_count": 44
    }
   ],
   "source": [
    "w2v_model.most_similar('信息学院')"
   ]
  },
  {
   "cell_type": "code",
   "execution_count": 52,
   "metadata": {},
   "outputs": [
    {
     "output_type": "execute_result",
     "data": {
      "text/plain": "[('亚洲', 0.920695960521698),\n ('研究院', 0.8535282611846924),\n ('工程院', 0.8212538957595825),\n ('JasonWu', 0.8192484974861145),\n ('InfoSys', 0.815918505191803),\n ('IBM', 0.7860386371612549),\n ('MSRA', 0.7722996473312378),\n ('QUIQ', 0.769305944442749),\n ('Pivotal', 0.7630451917648315),\n ('经理人', 0.7597249746322632)]"
     },
     "metadata": {},
     "execution_count": 52
    }
   ],
   "source": [
    "w2v_model.most_similar('微软')"
   ]
  },
  {
   "cell_type": "code",
   "execution_count": 46,
   "metadata": {},
   "outputs": [
    {
     "output_type": "execute_result",
     "data": {
      "text/plain": "[('知识图谱', 0.9517089128494263),\n ('隐私保护', 0.9451524019241333),\n ('自然语言处理', 0.9438310861587524),\n ('机器学习', 0.9416126012802124),\n ('信息网络', 0.9404984712600708),\n ('隐私', 0.93840491771698),\n ('高频', 0.9383750557899475),\n ('推荐系统', 0.9352732300758362),\n ('社会网络', 0.9343469738960266),\n ('挑战性', 0.9322288036346436)]"
     },
     "metadata": {},
     "execution_count": 46
    }
   ],
   "source": [
    "w2v_model.most_similar('深度学习')"
   ]
  },
  {
   "cell_type": "code",
   "execution_count": 47,
   "metadata": {},
   "outputs": [
    {
     "output_type": "execute_result",
     "data": {
      "text/plain": "[('交流平台', 0.756393551826477),\n ('调研', 0.7418028712272644),\n ('面对面', 0.7341629266738892),\n ('全程参加', 0.7308314442634583),\n ('开展调研', 0.7291984558105469),\n ('日常化', 0.7213379144668579),\n ('近期', 0.7122913002967834),\n ('互动', 0.708523690700531),\n ('形式', 0.7075490951538086),\n ('征集', 0.7058008909225464)]"
     },
     "metadata": {},
     "execution_count": 47
    }
   ],
   "source": [
    "w2v_model.most_similar('宣讲')"
   ]
  },
  {
   "cell_type": "code",
   "execution_count": 48,
   "metadata": {},
   "outputs": [
    {
     "output_type": "execute_result",
     "data": {
      "text/plain": "[('层', 0.9309592247009277),\n ('一层', 0.9287614822387695),\n ('1001', 0.9282403588294983),\n ('游泳馆', 0.9264535903930664),\n ('6308', 0.9256508946418762),\n ('大厦', 0.9253577589988708),\n ('北', 0.9230436086654663),\n ('主楼', 0.9199074506759644),\n ('二楼', 0.9188681840896606),\n ('汇贤', 0.9127611517906189)]"
     },
     "metadata": {},
     "execution_count": 48
    }
   ],
   "source": [
    "w2v_model.most_similar('明德楼')"
   ]
  },
  {
   "cell_type": "code",
   "execution_count": 49,
   "metadata": {},
   "outputs": [
    {
     "output_type": "execute_result",
     "data": {
      "text/plain": "[('WWW', 0.9669920802116394),\n ('MSST', 0.9549739956855774),\n ('TKDE', 0.9537514448165894),\n ('CIKM', 0.9516314268112183),\n ('ICDE', 0.9500011205673218),\n ('EDBT', 0.9492573738098145),\n ('EI', 0.9484114646911621),\n ('AAAI', 0.9479264616966248),\n ('P', 0.9476830959320068),\n ('WSDM', 0.94678795337677)]"
     },
     "metadata": {},
     "execution_count": 49
    }
   ],
   "source": [
    "w2v_model.most_similar('SIGIR')"
   ]
  },
  {
   "cell_type": "code",
   "execution_count": null,
   "metadata": {},
   "outputs": [],
   "source": []
  }
 ]
}