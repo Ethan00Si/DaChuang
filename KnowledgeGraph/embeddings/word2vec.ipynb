{
 "metadata": {
  "language_info": {
   "codemirror_mode": {
    "name": "ipython",
    "version": 3
   },
   "file_extension": ".py",
   "mimetype": "text/x-python",
   "name": "python",
   "nbconvert_exporter": "python",
   "pygments_lexer": "ipython3",
   "version": 3
  },
  "orig_nbformat": 2,
  "kernelspec": {
   "name": "python_defaultSpec_1596652649110",
   "display_name": "Python 3.7.6 64-bit ('base': conda)"
  }
 },
 "nbformat": 4,
 "nbformat_minor": 2,
 "cells": [
  {
   "cell_type": "code",
   "execution_count": 1,
   "metadata": {},
   "outputs": [],
   "source": [
    "from gensim.models import Word2Vec\n",
    "from gensim.utils import simple_preprocess\n",
    "import jsonlines\n",
    "import pandas\n",
    "import jieba\n",
    "import re\n",
    "import embedding\n",
    "import numpy"
   ]
  },
  {
   "cell_type": "code",
   "execution_count": 2,
   "metadata": {},
   "outputs": [],
   "source": [
    "embedding.mergeDict() #生成字典，不需要执行"
   ]
  },
  {
   "cell_type": "markdown",
   "metadata": {},
   "source": [
    "## 下面都是处理数据"
   ]
  },
  {
   "cell_type": "code",
   "execution_count": null,
   "metadata": {},
   "outputs": [],
   "source": [
    "data_web = pandas.read_excel(r'D:\\repositories\\DaChuang\\data\\news_each_school\\info_output.xlsx')"
   ]
  },
  {
   "cell_type": "code",
   "execution_count": null,
   "metadata": {},
   "outputs": [],
   "source": [
    "data_wx = pandas.read_csv(r'D:\\repositories\\DaChuang\\data\\公众号\\ruc_info.csv')"
   ]
  },
  {
   "cell_type": "code",
   "execution_count": null,
   "metadata": {},
   "outputs": [],
   "source": [
    "#丢弃nan\n",
    "data_wx.dropna(axis=0,inplace=True,how='any')\n",
    "data_web.dropna(axis=0,inplace=True,how='any')"
   ]
  },
  {
   "cell_type": "code",
   "execution_count": null,
   "metadata": {},
   "outputs": [],
   "source": [
    "#重新排index\n",
    "data_wx.reset_index(drop=True, inplace=True)\n",
    "data_web.reset_index(drop=True, inplace=True)"
   ]
  },
  {
   "cell_type": "code",
   "execution_count": null,
   "metadata": {},
   "outputs": [],
   "source": [
    "#将dataframe中的换行全都删去（公众号内容中有很多）\n",
    "for index,content in enumerate(data_wx['content']):\n",
    "    data_wx.loc[index,'content'] = re.sub('\\n|\\r','',content)\n",
    "\n",
    "for index,content in enumerate(data_web['正文']):\n",
    "    data_web.loc[index,'正文'] = re.sub('\\n|\\r','',content)\n",
    "\n",
    "for index,content in enumerate(data_wx['title']):\n",
    "    data_wx.loc[index,'title'] = re.sub('\\n|\\r','',content)\n",
    "\n",
    "for index,content in enumerate(data_web['标题']):\n",
    "    data_web.loc[index,'标题'] = re.sub('\\n|\\r','',content)"
   ]
  },
  {
   "cell_type": "code",
   "execution_count": null,
   "metadata": {},
   "outputs": [],
   "source": [
    "#拼接\n",
    "data = pandas.concat([data_web.正文,data_wx.content,data_web.标题,data_wx.title])"
   ]
  },
  {
   "cell_type": "markdown",
   "metadata": {},
   "source": [
    "## 以下是训练word2vec的内容"
   ]
  },
  {
   "cell_type": "code",
   "execution_count": null,
   "metadata": {},
   "outputs": [],
   "source": [
    "stop = embedding.getStopList()"
   ]
  },
  {
   "cell_type": "code",
   "execution_count": null,
   "metadata": {},
   "outputs": [],
   "source": [
    "corpus = embedding.getCorpus() 获得语料"
   ]
  },
  {
   "cell_type": "code",
   "execution_count": null,
   "metadata": {
    "tags": []
   },
   "outputs": [],
   "source": [
    "jieba.load_userdict('../data/语料/dictionary.txt')"
   ]
  },
  {
   "cell_type": "code",
   "execution_count": null,
   "metadata": {
    "tags": []
   },
   "outputs": [],
   "source": [
    "corpus=[]\n",
    "for sentence in data:\n",
    "    #line = []\n",
    "    segment = jieba.cut(sentence)\n",
    "    seg = [word for word in list(segment) if word not in stop]\n",
    "    \n",
    "    #for word in simple_preprocess(seg,deacc=True,min_len=1):\n",
    "    #    if word not in stop:\n",
    "    #        line.append(word)\n",
    "    corpus.append(seg)     "
   ]
  },
  {
   "cell_type": "code",
   "execution_count": null,
   "metadata": {},
   "outputs": [],
   "source": [
    "with open(r'D:\\repositories\\DaChuang\\data\\teachers\\teachers_information.json','r',encoding='utf-8') as f:\n",
    "    for teacher in jsonlines.Reader(f):\n",
    "        line = []\n",
    "        line.append(teacher['department'])\n",
    "        line.append(teacher['name'])\n",
    "        try:\n",
    "            line+=teacher['major']\n",
    "        except:\n",
    "            pass\n",
    "        corpus.append(line)"
   ]
  },
  {
   "cell_type": "code",
   "execution_count": null,
   "metadata": {},
   "outputs": [],
   "source": [
    "#输出语料\n",
    "g = open(r'D:\\codes\\Pt_MarkDown\\大创\\data\\corpus_information.txt','w',encoding='utf-8')\n",
    "for sentence in corpus:\n",
    "    line = ' '.join(sentence)\n",
    "    g.write(line+'\\n')\n",
    "g.close()"
   ]
  },
  {
   "cell_type": "code",
   "execution_count": null,
   "metadata": {},
   "outputs": [],
   "source": [
    "#统计关键词数量小于2的文档数\n",
    "dictionary = embedding.getDict()\n",
    "count_g = 0\n",
    "docs = []\n",
    "for doc in corpus:\n",
    "    count = 0\n",
    "    for word in doc:\n",
    "        if word in dictionary:\n",
    "            count+=1\n",
    "    if count < 2:\n",
    "        docs.append(doc)\n",
    "        count_g += 1"
   ]
  },
  {
   "cell_type": "code",
   "execution_count": null,
   "metadata": {},
   "outputs": [],
   "source": [
    "docs[2]"
   ]
  },
  {
   "cell_type": "code",
   "execution_count": 41,
   "metadata": {},
   "outputs": [],
   "source": [
    "#训练模型\n",
    "w2v_model = Word2Vec(corpus, size=100, min_count=1, workers=16)"
   ]
  },
  {
   "cell_type": "code",
   "execution_count": 42,
   "metadata": {},
   "outputs": [],
   "source": [
    "w2v_model.save(r'D:\\codes\\Pt_MarkDown\\大创\\data\\word_embeddings_information.model')"
   ]
  },
  {
   "cell_type": "code",
   "execution_count": 43,
   "metadata": {},
   "outputs": [
    {
     "output_type": "execute_result",
     "data": {
      "text/plain": "0.5212252"
     },
     "metadata": {},
     "execution_count": 43
    }
   ],
   "source": [
    "w2v_model.wv.similarity('窦志成','信息检索')"
   ]
  },
  {
   "cell_type": "code",
   "execution_count": 44,
   "metadata": {},
   "outputs": [
    {
     "output_type": "execute_result",
     "data": {
      "text/plain": "[('我院', 0.6962107419967651),\n ('全院', 0.6765086650848389),\n ('秋冬季', 0.6276863813400269),\n ('座谈会', 0.6230578422546387),\n ('第六次', 0.6109772324562073),\n ('一个系列', 0.608765721321106),\n ('表示祝贺', 0.6076531410217285),\n ('数学系', 0.6065365076065063),\n ('人民大学', 0.5948217511177063),\n ('顺利', 0.5932497978210449)]"
     },
     "metadata": {},
     "execution_count": 44
    }
   ],
   "source": [
    "w2v_model.most_similar('信息学院')"
   ]
  },
  {
   "cell_type": "code",
   "execution_count": 52,
   "metadata": {},
   "outputs": [
    {
     "output_type": "execute_result",
     "data": {
      "text/plain": "[('亚洲', 0.920695960521698),\n ('研究院', 0.8535282611846924),\n ('工程院', 0.8212538957595825),\n ('JasonWu', 0.8192484974861145),\n ('InfoSys', 0.815918505191803),\n ('IBM', 0.7860386371612549),\n ('MSRA', 0.7722996473312378),\n ('QUIQ', 0.769305944442749),\n ('Pivotal', 0.7630451917648315),\n ('经理人', 0.7597249746322632)]"
     },
     "metadata": {},
     "execution_count": 52
    }
   ],
   "source": [
    "w2v_model.most_similar('微软')"
   ]
  },
  {
   "cell_type": "code",
   "execution_count": 46,
   "metadata": {},
   "outputs": [
    {
     "output_type": "execute_result",
     "data": {
      "text/plain": "[('知识图谱', 0.9517089128494263),\n ('隐私保护', 0.9451524019241333),\n ('自然语言处理', 0.9438310861587524),\n ('机器学习', 0.9416126012802124),\n ('信息网络', 0.9404984712600708),\n ('隐私', 0.93840491771698),\n ('高频', 0.9383750557899475),\n ('推荐系统', 0.9352732300758362),\n ('社会网络', 0.9343469738960266),\n ('挑战性', 0.9322288036346436)]"
     },
     "metadata": {},
     "execution_count": 46
    }
   ],
   "source": [
    "w2v_model.most_similar('深度学习')"
   ]
  },
  {
   "cell_type": "code",
   "execution_count": 47,
   "metadata": {},
   "outputs": [
    {
     "output_type": "execute_result",
     "data": {
      "text/plain": "[('交流平台', 0.756393551826477),\n ('调研', 0.7418028712272644),\n ('面对面', 0.7341629266738892),\n ('全程参加', 0.7308314442634583),\n ('开展调研', 0.7291984558105469),\n ('日常化', 0.7213379144668579),\n ('近期', 0.7122913002967834),\n ('互动', 0.708523690700531),\n ('形式', 0.7075490951538086),\n ('征集', 0.7058008909225464)]"
     },
     "metadata": {},
     "execution_count": 47
    }
   ],
   "source": [
    "w2v_model.most_similar('宣讲')"
   ]
  },
  {
   "cell_type": "code",
   "execution_count": 48,
   "metadata": {},
   "outputs": [
    {
     "output_type": "execute_result",
     "data": {
      "text/plain": "[('层', 0.9309592247009277),\n ('一层', 0.9287614822387695),\n ('1001', 0.9282403588294983),\n ('游泳馆', 0.9264535903930664),\n ('6308', 0.9256508946418762),\n ('大厦', 0.9253577589988708),\n ('北', 0.9230436086654663),\n ('主楼', 0.9199074506759644),\n ('二楼', 0.9188681840896606),\n ('汇贤', 0.9127611517906189)]"
     },
     "metadata": {},
     "execution_count": 48
    }
   ],
   "source": [
    "w2v_model.most_similar('明德楼')"
   ]
  },
  {
   "cell_type": "code",
   "execution_count": 49,
   "metadata": {},
   "outputs": [
    {
     "output_type": "execute_result",
     "data": {
      "text/plain": "[('WWW', 0.9669920802116394),\n ('MSST', 0.9549739956855774),\n ('TKDE', 0.9537514448165894),\n ('CIKM', 0.9516314268112183),\n ('ICDE', 0.9500011205673218),\n ('EDBT', 0.9492573738098145),\n ('EI', 0.9484114646911621),\n ('AAAI', 0.9479264616966248),\n ('P', 0.9476830959320068),\n ('WSDM', 0.94678795337677)]"
     },
     "metadata": {},
     "execution_count": 49
    }
   ],
   "source": [
    "w2v_model.most_similar('SIGIR')"
   ]
  },
  {
   "cell_type": "code",
   "execution_count": null,
   "metadata": {},
   "outputs": [],
   "source": []
  }
 ]
}