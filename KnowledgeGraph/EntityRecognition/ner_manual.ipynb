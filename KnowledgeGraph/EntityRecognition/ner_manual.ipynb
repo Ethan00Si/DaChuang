{
 "metadata": {
  "language_info": {
   "codemirror_mode": {
    "name": "ipython",
    "version": 3
   },
   "file_extension": ".py",
   "mimetype": "text/x-python",
   "name": "python",
   "nbconvert_exporter": "python",
   "pygments_lexer": "ipython3",
   "version": "3.6.5-final"
  },
  "orig_nbformat": 2,
  "kernelspec": {
   "name": "python_defaultSpec_1598722543348",
   "display_name": "Python 3.6.5 64-bit ('dkn': conda)"
  }
 },
 "nbformat": 4,
 "nbformat_minor": 2,
 "cells": [
  {
   "cell_type": "code",
   "execution_count": 1,
   "metadata": {},
   "outputs": [],
   "source": [
    "import kashgari\n",
    "import pandas\n",
    "import utils.train_on_server as t\n",
    "import pandas"
   ]
  },
  {
   "cell_type": "code",
   "execution_count": 2,
   "metadata": {
    "tags": []
   },
   "outputs": [],
   "source": [
    "from utils.utils import getEntity"
   ]
  },
  {
   "cell_type": "code",
   "execution_count": 3,
   "metadata": {
    "tags": []
   },
   "outputs": [
    {
     "output_type": "stream",
     "name": "stderr",
     "text": "WARNING:root:Sequence length will auto set at 95% of sequence length\n"
    }
   ],
   "source": [
    "model = t.load_model(r'D:\\Ubuntu\\rootfs\\home\\pt\\models\\BILSTM_CRF_epoch_100.model')"
   ]
  },
  {
   "cell_type": "code",
   "execution_count": 4,
   "metadata": {},
   "outputs": [],
   "source": [
    "data = pandas.read_csv(r'D:\\repositories\\DaChuang\\data\\news_each_school\\info_output.csv',encoding='utf-8')"
   ]
  },
  {
   "cell_type": "code",
   "execution_count": 5,
   "metadata": {
    "tags": []
   },
   "outputs": [],
   "source": [
    "a = data.loc[0:5,:]\n",
    "\n",
    "a,b = getEntity(model,a)"
   ]
  },
  {
   "cell_type": "code",
   "execution_count": 7,
   "metadata": {},
   "outputs": [
    {
     "output_type": "execute_result",
     "data": {
      "text/plain": "[[('Name', (0, 3)),\n  ('Position', (3, 5)),\n  ('Department', (10, 13)),\n  ('Conference', (13, 37))],\n [('Name', (0, 3)), ('Position', (3, 5)), ('Location', (22, 26))],\n [('Department', (5, 11)), ('Department', (11, 15)), ('Award', (15, 27))],\n [('Department', (0, 4)), ('Scholarship', (4, 18))],\n [('Department', (0, 4))],\n [('Department', (5, 11)),\n  ('Department', (11, 15)),\n  ('Scholarship', (15, 27))]]"
     },
     "metadata": {},
     "execution_count": 7
    }
   ],
   "source": [
    "b"
   ]
  },
  {
   "cell_type": "code",
   "execution_count": 13,
   "metadata": {},
   "outputs": [
    {
     "output_type": "execute_result",
     "data": {
      "text/plain": "'我院计算机科学与技术学科再入QS世界大学学科排名榜'"
     },
     "metadata": {},
     "execution_count": 13
    }
   ],
   "source": [
    "x = data[title]\n",
    "x.loc[1000]"
   ]
  },
  {
   "cell_type": "code",
   "execution_count": 31,
   "metadata": {
    "tags": []
   },
   "outputs": [],
   "source": [
    "sen = '中国人民大学高瓴人工智能学院2019年优秀大学生夏令营招生简章,高瓴人工智能学院由高瓴资本创始人兼CEO、耶鲁大学校董、中国人民大学校友张磊先生捐资支持'\n",
    "c = getEntity(model,['张配天参加129合唱音乐节','窦志成获得ACM优秀论文奖','信院“读史读经典”活动顺利展开'])"
   ]
  },
  {
   "cell_type": "code",
   "execution_count": 19,
   "metadata": {},
   "outputs": [
    {
     "output_type": "execute_result",
     "data": {
      "text/plain": "'高瓴人工智能学院2019年优秀大学生夏令营招生'"
     },
     "metadata": {},
     "execution_count": 19
    }
   ],
   "source": [
    "sen[6:29]"
   ]
  },
  {
   "cell_type": "code",
   "execution_count": 6,
   "metadata": {
    "tags": []
   },
   "outputs": [
    {
     "output_type": "stream",
     "name": "stdout",
     "text": "[['S', 'I', 'G', 'I', 'R', '会', '长', '杜', '小', '勇', '参', '加', '颁', '奖', '典', '礼']]\nS---B-C\n\nI---I-C\n\nG---I-C\n\nI---I-C\n\nR---I-C\n\n会---B-P\n\n长---I-P\n\n杜---B-N\n\n小---I-N\n\n勇---I-N\n\n参---O\n\n加---O\n\n颁---O\n\n奖---O\n\n典---I-S\n\n礼---O\n\n"
    }
   ],
   "source": [
    "t.predict(model,['SIGIR会长杜小勇参加颁奖典礼'])"
   ]
  },
  {
   "cell_type": "code",
   "execution_count": 24,
   "metadata": {
    "tags": []
   },
   "outputs": [
    {
     "output_type": "stream",
     "name": "stdout",
     "text": "[['信', '息', '学', '院', '参', '观', '抗', '日', '战', '争', '纪', '念', '馆', '、', '卢', '沟', '桥', '活', '动', '成', '功', '举', '办']]\n信---B-D\n\n息---I-D\n\n学---I-D\n\n院---I-D\n\n参---O\n\n观---O\n\n抗---B-L\n\n日---I-L\n\n战---I-L\n\n争---I-L\n\n纪---I-L\n\n念---I-L\n\n馆---I-L\n\n、---O\n\n卢---B-L\n\n沟---I-L\n\n桥---I-L\n\n活---O\n\n动---O\n\n成---O\n\n功---O\n\n举---O\n\n办---O\n\n"
    }
   ],
   "source": [
    "t.predict(model,['信息学院参观抗日战争纪念馆、卢沟桥活动成功举办'])"
   ]
  },
  {
   "cell_type": "code",
   "execution_count": null,
   "metadata": {},
   "outputs": [],
   "source": [
    "model.predict(['窦','志','成'])"
   ]
  },
  {
   "cell_type": "code",
   "execution_count": null,
   "metadata": {
    "tags": []
   },
   "outputs": [],
   "source": [
    "x,y =t.getTrain(path=r'D:\\Ubuntu\\rootfs\\home\\pt\\data\\corpus\\labeled_train.txt')"
   ]
  },
  {
   "cell_type": "code",
   "execution_count": null,
   "metadata": {
    "tags": []
   },
   "outputs": [],
   "source": [
    "t.contrast(model,r'D:\\repositories\\DaChuang\\data\\语料\\labeled_train_1.txt')"
   ]
  },
  {
   "cell_type": "markdown",
   "metadata": {},
   "source": [
    "- C：会议、讲座、刊物、座谈会、研讨会、分享会、启动仪式、讲话、展出，**e.g 题为xx的分享会**则全部标注\n",
    "- A：奖项、基金、奖学金，包含前缀，**e.g ACM优秀论文奖**则全部标注\n",
    "- O：组织，包括学生组织、各实验室、社会组织，包括前缀，**e.g 信息学院分团委**则全部标注，**不包括学校、学院、系别、部门**\n",
    "- M：专业方向，包括领域、专业，**论文题目中的专业词汇不标注**\n",
    "- P：职称、职位，不包含前缀，**e.g ACM编委则只标注编委，ACM标注为C（刊物）**\n",
    "- N：人名，包括**老师姓名、学生姓名**\n",
    "- D：学校、学院、系别、学院内各种部门\n",
    "- S：项目、夏令营、考试、比赛、国际小学期、免试攻读研究生等学生活动，**不包括论文**\n",
    "- L：地点，包括前缀，**e.g 信息楼报告厅**全部标注\n",
    "- "
   ]
  },
  {
   "cell_type": "code",
   "execution_count": null,
   "metadata": {
    "tags": []
   },
   "outputs": [],
   "source": [
    "t.predict(model,[x[-4]])"
   ]
  },
  {
   "cell_type": "code",
   "execution_count": null,
   "metadata": {
    "tags": []
   },
   "outputs": [],
   "source": [
    "t.predict(model,x[-60:-50])"
   ]
  },
  {
   "cell_type": "code",
   "execution_count": null,
   "metadata": {
    "tags": []
   },
   "outputs": [],
   "source": [
    "t.predict(model,['窦志成参加ACM，其论文《Personalized Search》获得ACM优秀论文奖，颁奖典礼在明德堂举行，CIR主席杜小勇教授出席颁奖仪式'])"
   ]
  },
  {
   "cell_type": "code",
   "execution_count": null,
   "metadata": {
    "tags": []
   },
   "outputs": [],
   "source": [
    "t.predict(model,['信息学院2018级学生踊跃参加第32届129合唱音乐节，并取得A组三等奖的好成绩'])"
   ]
  },
  {
   "cell_type": "code",
   "execution_count": null,
   "metadata": {
    "tags": []
   },
   "outputs": [],
   "source": [
    "t.predict(model,['这个傻逼在信息楼会议室骂我'])"
   ]
  }
 ]
}