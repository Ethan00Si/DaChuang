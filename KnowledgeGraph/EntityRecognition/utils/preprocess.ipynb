{
 "metadata": {
  "language_info": {
   "codemirror_mode": {
    "name": "ipython",
    "version": 3
   },
   "file_extension": ".py",
   "mimetype": "text/x-python",
   "name": "python",
   "nbconvert_exporter": "python",
   "pygments_lexer": "ipython3",
   "version": "3.7.6-final"
  },
  "orig_nbformat": 2,
  "kernelspec": {
   "name": "python_defaultSpec_1597401353030",
   "display_name": "Python 3.7.6 64-bit ('base': conda)"
  }
 },
 "nbformat": 4,
 "nbformat_minor": 2,
 "cells": [
  {
   "cell_type": "code",
   "execution_count": 1,
   "metadata": {},
   "outputs": [],
   "source": [
    "import pandas\n",
    "import re\n",
    "from utils import getSeperated"
   ]
  },
  {
   "cell_type": "code",
   "execution_count": 2,
   "metadata": {},
   "outputs": [],
   "source": [
    "data = pandas.read_csv(r'D:\\repositories\\DaChuang\\data\\news_each_school\\info_output.csv')"
   ]
  },
  {
   "cell_type": "code",
   "execution_count": 3,
   "metadata": {},
   "outputs": [
    {
     "output_type": "execute_result",
     "data": {
      "text/plain": "        datetime           source  \\\n0     2020-07-20  info.ruc.edu.cn   \n1     2020-07-19  info.ruc.edu.cn   \n2     2020-07-17  info.ruc.edu.cn   \n3     2020-07-13  info.ruc.edu.cn   \n4     2020-07-04  info.ruc.edu.cn   \n...          ...              ...   \n4516  2005-04-21  info.ruc.edu.cn   \n4517  2005-04-21  info.ruc.edu.cn   \n4518  2005-04-21  info.ruc.edu.cn   \n4519  2005-04-08  info.ruc.edu.cn   \n4520  2005-04-08  info.ruc.edu.cn   \n\n                                                    url  \\\n0     http://info.ruc.edu.cn/news_convert_detail.php...   \n1     http://info.ruc.edu.cn/news_convert_detail.php...   \n2     http://info.ruc.edu.cn/notice_convert_detail.p...   \n3     http://info.ruc.edu.cn/news_convert_detail.php...   \n4      http://info.ruc.edu.cn/notice_detail.php?id=2067   \n...                                                 ...   \n4516  http://info.ruc.edu.cn/news_convert_detail.php...   \n4517  http://info.ruc.edu.cn/news_convert_detail.php...   \n4518  http://info.ruc.edu.cn/news_convert_detail.php...   \n4519  http://info.ruc.edu.cn/notice_convert_detail.p...   \n4520   http://info.ruc.edu.cn/notice_detail.php?id=1351   \n\n                                             title  \\\n0     杜小勇教授受邀参加四川大学“课程思政|计算机专业课教学模式探索与启示研讨会”并作主题报告   \n1                       李锡荣老师受邀担任多媒体领域国际一流期刊TOMM编委   \n2                      2020年中国人民大学信息学院优秀大学生夏令营获奖名单   \n3                            信息学院2020年优秀大学生夏令营顺利举办   \n4                                信息学院2020年拟录取博士生名单   \n...                                            ...   \n4516                   信息学院研究生会举办“国际名企就业之路——走进IBM”   \n4517                         国家自然科学基金委国际合作局领导到我校调研   \n4518                             信息系教师学术交流活动“IT治理”   \n4519                     关于2001级毕业生数学计算机公共课重修考试的通知   \n4520                     关于2001级毕业生数学计算机公共课重修考试的通知   \n\n                                                content  \n0     7月8日下午14时，四川大学计算机学院举行“课程思政|计算机专业课教学模式探索与启示研讨会”...  \n1     信息学院李锡荣老师受邀担任国际期刊TOMM编委（AssociateEditor），任期为20...  \n2     2020年7月8日至12日，来自全国各高校的优秀大学生与中国人民大学信息学院的硕士导师和博士...  \n3     2020年7月8日至7月12日，中国人民大学信息学院2020年优秀大学生夏令营顺利召开。在今...  \n4                                请见附件：信息学院2020年拟录取博士生名单  \n...                                                 ...  \n4516  4月20日晚，由信息学院研究生会主办的“国际名企就业之路”系列活动之“走进IBM”在求是楼1...  \n4517  4月12日国家自然科学基金委员会国际合作局领导吕蓓蕾及该局外事计划处张林处长到我校就信息学院...  \n4518  2005年4月20日，信息管理与信息系统系本学期第二次教师学术交流活动在信息楼二层会议室召开...  \n4519  关于2001级毕业生数学计算机公共课重修考试的通知一．考试安排:考试时间：5月11日上午8：...  \n4520  关于2001级毕业生数学计算机公共课重修考试的通知一．考试安排:考试时间：5月11日上午8：...  \n\n[4521 rows x 5 columns]",
      "text/html": "<div>\n<style scoped>\n    .dataframe tbody tr th:only-of-type {\n        vertical-align: middle;\n    }\n\n    .dataframe tbody tr th {\n        vertical-align: top;\n    }\n\n    .dataframe thead th {\n        text-align: right;\n    }\n</style>\n<table border=\"1\" class=\"dataframe\">\n  <thead>\n    <tr style=\"text-align: right;\">\n      <th></th>\n      <th>datetime</th>\n      <th>source</th>\n      <th>url</th>\n      <th>title</th>\n      <th>content</th>\n    </tr>\n  </thead>\n  <tbody>\n    <tr>\n      <th>0</th>\n      <td>2020-07-20</td>\n      <td>info.ruc.edu.cn</td>\n      <td>http://info.ruc.edu.cn/news_convert_detail.php...</td>\n      <td>杜小勇教授受邀参加四川大学“课程思政|计算机专业课教学模式探索与启示研讨会”并作主题报告</td>\n      <td>7月8日下午14时，四川大学计算机学院举行“课程思政|计算机专业课教学模式探索与启示研讨会”...</td>\n    </tr>\n    <tr>\n      <th>1</th>\n      <td>2020-07-19</td>\n      <td>info.ruc.edu.cn</td>\n      <td>http://info.ruc.edu.cn/news_convert_detail.php...</td>\n      <td>李锡荣老师受邀担任多媒体领域国际一流期刊TOMM编委</td>\n      <td>信息学院李锡荣老师受邀担任国际期刊TOMM编委（AssociateEditor），任期为20...</td>\n    </tr>\n    <tr>\n      <th>2</th>\n      <td>2020-07-17</td>\n      <td>info.ruc.edu.cn</td>\n      <td>http://info.ruc.edu.cn/notice_convert_detail.p...</td>\n      <td>2020年中国人民大学信息学院优秀大学生夏令营获奖名单</td>\n      <td>2020年7月8日至12日，来自全国各高校的优秀大学生与中国人民大学信息学院的硕士导师和博士...</td>\n    </tr>\n    <tr>\n      <th>3</th>\n      <td>2020-07-13</td>\n      <td>info.ruc.edu.cn</td>\n      <td>http://info.ruc.edu.cn/news_convert_detail.php...</td>\n      <td>信息学院2020年优秀大学生夏令营顺利举办</td>\n      <td>2020年7月8日至7月12日，中国人民大学信息学院2020年优秀大学生夏令营顺利召开。在今...</td>\n    </tr>\n    <tr>\n      <th>4</th>\n      <td>2020-07-04</td>\n      <td>info.ruc.edu.cn</td>\n      <td>http://info.ruc.edu.cn/notice_detail.php?id=2067</td>\n      <td>信息学院2020年拟录取博士生名单</td>\n      <td>请见附件：信息学院2020年拟录取博士生名单</td>\n    </tr>\n    <tr>\n      <th>...</th>\n      <td>...</td>\n      <td>...</td>\n      <td>...</td>\n      <td>...</td>\n      <td>...</td>\n    </tr>\n    <tr>\n      <th>4516</th>\n      <td>2005-04-21</td>\n      <td>info.ruc.edu.cn</td>\n      <td>http://info.ruc.edu.cn/news_convert_detail.php...</td>\n      <td>信息学院研究生会举办“国际名企就业之路——走进IBM”</td>\n      <td>4月20日晚，由信息学院研究生会主办的“国际名企就业之路”系列活动之“走进IBM”在求是楼1...</td>\n    </tr>\n    <tr>\n      <th>4517</th>\n      <td>2005-04-21</td>\n      <td>info.ruc.edu.cn</td>\n      <td>http://info.ruc.edu.cn/news_convert_detail.php...</td>\n      <td>国家自然科学基金委国际合作局领导到我校调研</td>\n      <td>4月12日国家自然科学基金委员会国际合作局领导吕蓓蕾及该局外事计划处张林处长到我校就信息学院...</td>\n    </tr>\n    <tr>\n      <th>4518</th>\n      <td>2005-04-21</td>\n      <td>info.ruc.edu.cn</td>\n      <td>http://info.ruc.edu.cn/news_convert_detail.php...</td>\n      <td>信息系教师学术交流活动“IT治理”</td>\n      <td>2005年4月20日，信息管理与信息系统系本学期第二次教师学术交流活动在信息楼二层会议室召开...</td>\n    </tr>\n    <tr>\n      <th>4519</th>\n      <td>2005-04-08</td>\n      <td>info.ruc.edu.cn</td>\n      <td>http://info.ruc.edu.cn/notice_convert_detail.p...</td>\n      <td>关于2001级毕业生数学计算机公共课重修考试的通知</td>\n      <td>关于2001级毕业生数学计算机公共课重修考试的通知一．考试安排:考试时间：5月11日上午8：...</td>\n    </tr>\n    <tr>\n      <th>4520</th>\n      <td>2005-04-08</td>\n      <td>info.ruc.edu.cn</td>\n      <td>http://info.ruc.edu.cn/notice_detail.php?id=1351</td>\n      <td>关于2001级毕业生数学计算机公共课重修考试的通知</td>\n      <td>关于2001级毕业生数学计算机公共课重修考试的通知一．考试安排:考试时间：5月11日上午8：...</td>\n    </tr>\n  </tbody>\n</table>\n<p>4521 rows × 5 columns</p>\n</div>"
     },
     "metadata": {},
     "execution_count": 3
    }
   ],
   "source": [
    "data"
   ]
  },
  {
   "cell_type": "code",
   "execution_count": null,
   "metadata": {},
   "outputs": [],
   "source": [
    "0,1,6,19,21,25"
   ]
  },
  {
   "cell_type": "code",
   "execution_count": 5,
   "metadata": {},
   "outputs": [],
   "source": [
    "path = r'D:\\codes\\Pt_Pytorch\\data\\corpus\\train.txt'"
   ]
  },
  {
   "cell_type": "code",
   "execution_count": 20,
   "metadata": {},
   "outputs": [
    {
     "output_type": "execute_result",
     "data": {
      "text/plain": "['近日，数据工程与知识工程教育部重点实验室张峰博士的论文被计算机系统领域顶会USENIXATC2020长文录用',\n '该文研究现代集成架构上的流数据SQL查询优化问题，研制了FineStream原型系统，和目前最先进的SQL流处理系统相比，可达到52%的性能提升',\n 'USENIX组织成立于1975年，是计算机系统领域最受开发者和研究者尊敬的国际学术组织',\n 'USENIXATC国际会议（USENIXAnnualTechnicalConference）是USENIX组织的技术年会，偏重系统设计与实现，是计算机系统领域具有最高学术地位的国际性会议之一，被中国计算机学会（CCF）推荐为A类会议',\n '据了解，USENIXATC会议发表难度大，本篇论文是我校第一篇在USENIXATC发表的论文',\n 'USENIXATC每年录用70篇左右的论文，录用率在20%左右',\n '2020年投稿348篇，录用65篇，录用率为18.6%',\n '今年的USENIXATC将于7月15-17日在线上举行',\n '附：论文信息论文题目：FineStream:Fine-GrainedWindow-BasedStreamProcessingonCPU-GPUIntegratedArchitectures作者：张峰，杨霖，张书豪，何炳胜，卢卫，杜小勇论文概述：利用GPU等异构设备对流数据进行SQL查询加速是近年来数据管理领域的研究热点',\n '然而，以往研究会将SQL查询语句整体分配到一个设备进行操作，忽略了查询语句中不同算子的设备倾向性',\n '本研究提出了基于连续算子模型（continuousoperatormodel）的细粒度调度原型系统FineStream，解决了SQL查询语句细分为不同算子时如何进一步向CPU、GPU等不同设备进行映射的难题，并在CPU、GPU相集成的真实硬件平台上进行了实现，在谷歌服务器日志等数据集验证了方法的有效性',\n '实验表明，FineStream和目前最先进的SQL流处理系统相比，可达到52%的性能提升',\n '']"
     },
     "metadata": {},
     "execution_count": 20
    }
   ],
   "source": [
    "sentence = data.content\n",
    "segment = re.split(\"；|。\",sentence[25])\n",
    "segment"
   ]
  },
  {
   "cell_type": "code",
   "execution_count": 21,
   "metadata": {},
   "outputs": [],
   "source": [
    "getSeperated([segment[0],segment[2],segment[3]],path)"
   ]
  },
  {
   "cell_type": "code",
   "execution_count": 2,
   "metadata": {},
   "outputs": [],
   "source": [
    "from utils import getTrainData_from_line"
   ]
  },
  {
   "cell_type": "code",
   "execution_count": 5,
   "metadata": {},
   "outputs": [],
   "source": [
    "train_data = getTrainData_from_line(path)"
   ]
  },
  {
   "cell_type": "code",
   "execution_count": 6,
   "metadata": {},
   "outputs": [
    {
     "output_type": "execute_result",
     "data": {
      "text/plain": "[(['7',\n   '月',\n   '8',\n   '日',\n   '下',\n   '午',\n   '2',\n   '4',\n   '时',\n   '，',\n   '四',\n   '川',\n   '大',\n   '学',\n   '计',\n   '算',\n   '机',\n   '学',\n   '院',\n   '举',\n   '行',\n   '“',\n   '课',\n   '程',\n   '思',\n   '政',\n   '|',\n   '计',\n   '算',\n   '机',\n   '专',\n   '业',\n   '课',\n   '教',\n   '学',\n   '模',\n   '式',\n   '探',\n   '索',\n   '与',\n   '启',\n   '示',\n   '研',\n   '讨',\n   '会',\n   '”',\n   '，',\n   '杜',\n   '小',\n   '勇',\n   '教',\n   '授',\n   '受',\n   '邀',\n   '参',\n   '加',\n   '会',\n   '议',\n   '，',\n   '并',\n   '作',\n   '题',\n   '为',\n   '《',\n   '课',\n   '程',\n   '思',\n   '政',\n   '的',\n   '思',\n   '考',\n   '与',\n   '实',\n   '践',\n   '—',\n   '—',\n   '一',\n   '位',\n   '专',\n   '业',\n   '课',\n   '教',\n   '师',\n   '的',\n   '视',\n   '角',\n   '》',\n   '的',\n   '主',\n   '题',\n   '报',\n   '告'],\n  ['O',\n   'O',\n   'O',\n   'O',\n   'O',\n   'O',\n   'O',\n   'O',\n   'O',\n   'O',\n   'O',\n   'O',\n   'O',\n   'O',\n   'O',\n   'O',\n   'O',\n   'O',\n   'O',\n   'O',\n   'O',\n   'O',\n   'B-C',\n   'I-C',\n   'I-C',\n   'I-C',\n   'I-C',\n   'I-C',\n   'I-C',\n   'I-C',\n   'I-C',\n   'I-C',\n   'I-C',\n   'I-C',\n   'I-C',\n   'I-C',\n   'I-C',\n   'I-C',\n   'I-C',\n   'I-C',\n   'I-C',\n   'I-C',\n   'I-C',\n   'I-C',\n   'I-C',\n   'O',\n   'O',\n   'O',\n   'O',\n   'O',\n   'O',\n   'O',\n   'O',\n   'O',\n   'O',\n   'O',\n   'O',\n   'O',\n   'O',\n   'O',\n   'O',\n   'O',\n   'O',\n   'B-C',\n   'I-C',\n   'I-C',\n   'I-C',\n   'I-C',\n   'I-C',\n   'I-C',\n   'I-C',\n   'I-C',\n   'I-C',\n   'I-C',\n   'I-C',\n   'I-C',\n   'I-C',\n   'I-C',\n   'I-C',\n   'I-C',\n   'I-C',\n   'I-C',\n   'I-C',\n   'I-C',\n   'I-C',\n   'I-C',\n   'I-C',\n   'I-C',\n   'I-C',\n   'I-C',\n   'I-C',\n   'I-C']),\n (['信',\n   '息',\n   '学',\n   '院',\n   '李',\n   '锡',\n   '荣',\n   '老',\n   '师',\n   '受',\n   '邀',\n   '担',\n   '任',\n   '国',\n   '际',\n   '期',\n   '刊',\n   'T',\n   'O',\n   'M',\n   'M',\n   '编',\n   '委',\n   '（',\n   'A',\n   's',\n   's',\n   'o',\n   'c',\n   'i',\n   'a',\n   't',\n   'e',\n   'E',\n   'd',\n   'i',\n   't',\n   'o',\n   'r',\n   '）',\n   '，',\n   '任',\n   '期',\n   '为',\n   '2',\n   '2',\n   '年',\n   '7',\n   '月',\n   '至',\n   '2',\n   '2',\n   '3',\n   '年',\n   '6',\n   '月'],\n  ['O',\n   'O',\n   'O',\n   'O',\n   'O',\n   'O',\n   'O',\n   'O',\n   'O',\n   'O',\n   'O',\n   'O',\n   'O',\n   'O',\n   'O',\n   'O',\n   'O',\n   'B-C',\n   'I-C',\n   'I-C',\n   'I-C',\n   'O',\n   'O',\n   'O',\n   'O',\n   'O',\n   'O',\n   'O',\n   'O',\n   'O',\n   'O',\n   'O',\n   'O',\n   'O',\n   'O',\n   'O',\n   'O',\n   'O',\n   'O',\n   'O',\n   'O',\n   'O',\n   'O',\n   'O',\n   'O',\n   'O',\n   'O',\n   'O',\n   'O',\n   'O',\n   'O',\n   'O',\n   'O',\n   'O',\n   'O',\n   'O']),\n (['作',\n   '为',\n   '国',\n   '际',\n   '计',\n   '算',\n   '机',\n   '学',\n   '会',\n   '(',\n   'A',\n   'C',\n   'M',\n   ')',\n   '会',\n   '刊',\n   '，',\n   'T',\n   'O',\n   'M',\n   'M',\n   '主',\n   '要',\n   '发',\n   '表',\n   '多',\n   '媒',\n   '体',\n   '计',\n   '算',\n   '、',\n   '通',\n   '信',\n   '和',\n   '应',\n   '用',\n   '相',\n   '关',\n   '的',\n   '学',\n   '术',\n   '论',\n   '文',\n   '，',\n   '是',\n   '多',\n   '媒',\n   '体',\n   '领',\n   '域',\n   '国',\n   '际',\n   '一',\n   '流',\n   '刊',\n   '物',\n   '，',\n   '也',\n   '是',\n   '中',\n   '国',\n   '计',\n   '算',\n   '机',\n   '学',\n   '会',\n   '(',\n   'C',\n   'C',\n   'F',\n   ')',\n   '推',\n   '荐',\n   '的',\n   'B',\n   '类',\n   '期',\n   '刊'],\n  ['O',\n   'O',\n   'B-C',\n   'I-C',\n   'I-C',\n   'I-C',\n   'I-C',\n   'I-C',\n   'I-C',\n   'I-C',\n   'I-C',\n   'I-C',\n   'I-C',\n   'I-C',\n   'O',\n   'O',\n   'O',\n   'B-C',\n   'I-C',\n   'I-C',\n   'I-C',\n   'O',\n   'O',\n   'O',\n   'O',\n   'O',\n   'O',\n   'O',\n   'O',\n   'O',\n   'O',\n   'O',\n   'O',\n   'O',\n   'O',\n   'O',\n   'O',\n   'O',\n   'O',\n   'O',\n   'O',\n   'O',\n   'O',\n   'O',\n   'O',\n   'O',\n   'O',\n   'O',\n   'O',\n   'O',\n   'O',\n   'O',\n   'O',\n   'O',\n   'O',\n   'O',\n   'O',\n   'O',\n   'O',\n   'B-C',\n   'I-C',\n   'I-C',\n   'I-C',\n   'I-C',\n   'I-C',\n   'I-C',\n   'I-C',\n   'I-C',\n   'I-C',\n   'I-C',\n   'I-C',\n   'O',\n   'O',\n   'O',\n   'O',\n   'O',\n   'O',\n   'O']),\n (['李',\n   '锡',\n   '荣',\n   '老',\n   '师',\n   '长',\n   '期',\n   '从',\n   '事',\n   '多',\n   '媒',\n   '体',\n   '计',\n   '算',\n   '方',\n   '向',\n   '的',\n   '科',\n   '研',\n   '工',\n   '作',\n   '，',\n   '研',\n   '究',\n   '主',\n   '题',\n   '包',\n   '括',\n   '跨',\n   '媒',\n   '体',\n   '感',\n   '知',\n   '、',\n   '学',\n   '习',\n   '和',\n   '推',\n   '理',\n   '，',\n   '零',\n   '示',\n   '例',\n   '视',\n   '频',\n   '检',\n   '索',\n   '，',\n   '跨',\n   '语',\n   '言',\n   '图',\n   '像',\n   '描',\n   '述',\n   '与',\n   '检',\n   '索',\n   '，',\n   '多',\n   '模',\n   '态',\n   '医',\n   '学',\n   '影',\n   '像',\n   '分',\n   '析',\n   '等',\n   '，',\n   '获',\n   '得',\n   'A',\n   'C',\n   'M',\n   'S',\n   'I',\n   'G',\n   'M',\n   'M',\n   '杰',\n   '出',\n   '博',\n   '士',\n   '论',\n   '文',\n   '奖',\n   '、',\n   'I',\n   'E',\n   'E',\n   'E',\n   'T',\n   'r',\n   'a',\n   'n',\n   's',\n   'a',\n   'c',\n   't',\n   'i',\n   'o',\n   'n',\n   's',\n   'o',\n   'n',\n   'M',\n   'u',\n   'l',\n   't',\n   'i',\n   'm',\n   'e',\n   'd',\n   'i',\n   'a',\n   '最',\n   '佳',\n   '论',\n   '文',\n   '奖',\n   '、',\n   'A',\n   'C',\n   'M',\n   'M',\n   'M',\n   'G',\n   'r',\n   'a',\n   'n',\n   'd',\n   'C',\n   'h',\n   'a',\n   'l',\n   'l',\n   'e',\n   'n',\n   'g',\n   'e',\n   'A',\n   'w',\n   'a',\n   'r',\n   'd',\n   '、',\n   '中',\n   '国',\n   '多',\n   '媒',\n   '体',\n   '大',\n   '会',\n   '优',\n   '秀',\n   '论',\n   '文',\n   '奖',\n   '等',\n   '多',\n   '个',\n   '学',\n   '术',\n   '奖',\n   '项'],\n  ['O',\n   'O',\n   'O',\n   'O',\n   'O',\n   'O',\n   'O',\n   'O',\n   'O',\n   'O',\n   'O',\n   'O',\n   'O',\n   'O',\n   'O',\n   'O',\n   'O',\n   'O',\n   'O',\n   'O',\n   'O',\n   'O',\n   'O',\n   'O',\n   'O',\n   'O',\n   'O',\n   'O',\n   'O',\n   'O',\n   'O',\n   'O',\n   'O',\n   'O',\n   'O',\n   'O',\n   'O',\n   'O',\n   'O',\n   'O',\n   'O',\n   'O',\n   'O',\n   'O',\n   'O',\n   'O',\n   'O',\n   'O',\n   'O',\n   'O',\n   'O',\n   'O',\n   'O',\n   'O',\n   'O',\n   'O',\n   'O',\n   'O',\n   'O',\n   'O',\n   'O',\n   'O',\n   'O',\n   'O',\n   'O',\n   'O',\n   'O',\n   'O',\n   'O',\n   'O',\n   'O',\n   'O',\n   'B-A',\n   'I-A',\n   'I-A',\n   'I-A',\n   'I-A',\n   'I-A',\n   'I-A',\n   'I-A',\n   'I-A',\n   'I-A',\n   'I-A',\n   'I-A',\n   'I-A',\n   'I-A',\n   'I-A',\n   'O',\n   'B-A',\n   'I-A',\n   'I-A',\n   'I-A',\n   'I-A',\n   'I-A',\n   'I-A',\n   'I-A',\n   'I-A',\n   'I-A',\n   'I-A',\n   'I-A',\n   'I-A',\n   'I-A',\n   'I-A',\n   'I-A',\n   'I-A',\n   'I-A',\n   'I-A',\n   'I-A',\n   'I-A',\n   'I-A',\n   'I-A',\n   'I-A',\n   'I-A',\n   'I-A',\n   'I-A',\n   'I-A',\n   'I-A',\n   'I-A',\n   'I-A',\n   'I-A',\n   'I-A',\n   'O',\n   'I-A',\n   'I-A',\n   'I-A',\n   'I-A',\n   'I-A',\n   'I-A',\n   'I-A',\n   'I-A',\n   'I-A',\n   'I-A',\n   'I-A',\n   'I-A',\n   'I-A',\n   'I-A',\n   'I-A',\n   'I-A',\n   'I-A',\n   'I-A',\n   'I-A',\n   'I-A',\n   'I-A',\n   'I-A',\n   'I-A',\n   'I-A',\n   'O',\n   'B-A',\n   'I-A',\n   'I-A',\n   'I-A',\n   'I-A',\n   'I-A',\n   'I-A',\n   'I-A',\n   'I-A',\n   'I-A',\n   'I-A',\n   'I-A',\n   'O',\n   'O',\n   'O',\n   'O',\n   'O',\n   'O',\n   'O']),\n (['2',\n   '0',\n   '0',\n   '5',\n   '年',\n   '4',\n   '月',\n   '2',\n   '0',\n   '日',\n   '，',\n   '信',\n   '息',\n   '管',\n   '理',\n   '与',\n   '信',\n   '息',\n   '系',\n   '统',\n   '系',\n   '本',\n   '学',\n   '期',\n   '第',\n   '二',\n   '次',\n   '教',\n   '师',\n   '学',\n   '术',\n   '交',\n   '流',\n   '活',\n   '动',\n   '在',\n   '信',\n   '息',\n   '楼',\n   '二',\n   '层',\n   '会',\n   '议',\n   '室',\n   '召',\n   '开',\n   '，',\n   '杨',\n   '波',\n   '老',\n   '师',\n   '做',\n   '了',\n   '题',\n   '为',\n   '“',\n   'I',\n   'T',\n   '治',\n   '理',\n   '”',\n   '的',\n   '学',\n   '术',\n   '报',\n   '告',\n   '，',\n   '信',\n   '息',\n   '系',\n   '师',\n   '生',\n   '共',\n   '3',\n   '0',\n   '余',\n   '人',\n   '参',\n   '加',\n   '了',\n   '会',\n   '议'],\n  ['O',\n   'O',\n   'O',\n   'O',\n   'O',\n   'O',\n   'O',\n   'O',\n   'O',\n   'O',\n   'O',\n   'O',\n   'O',\n   'O',\n   'O',\n   'O',\n   'O',\n   'O',\n   'O',\n   'O',\n   'O',\n   'O',\n   'O',\n   'O',\n   'O',\n   'O',\n   'O',\n   'B-C',\n   'I-C',\n   'I-C',\n   'I-C',\n   'I-C',\n   'I-C',\n   'I-C',\n   'I-C',\n   'O',\n   'O',\n   'O',\n   'O',\n   'O',\n   'O',\n   'O',\n   'O',\n   'O',\n   'O',\n   'O',\n   'O',\n   'O',\n   'O',\n   'O',\n   'O',\n   'O',\n   'O',\n   'O',\n   'O',\n   'B-C',\n   'I-C',\n   'I-C',\n   'I-C',\n   'I-C',\n   'I-C',\n   'I-C',\n   'I-C',\n   'I-C',\n   'I-C',\n   'I-C',\n   'O',\n   'O',\n   'O',\n   'O',\n   'O',\n   'O',\n   'O',\n   'O',\n   'O',\n   'O',\n   'O',\n   'O',\n   'O',\n   'O',\n   'O',\n   'O'])]"
     },
     "metadata": {},
     "execution_count": 6
    }
   ],
   "source": [
    "train_data"
   ]
  },
  {
   "cell_type": "code",
   "execution_count": null,
   "metadata": {},
   "outputs": [],
   "source": []
  }
 ]
}