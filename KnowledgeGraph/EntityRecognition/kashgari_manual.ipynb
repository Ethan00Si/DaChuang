{
 "metadata": {
  "language_info": {
   "codemirror_mode": {
    "name": "ipython",
    "version": 3
   },
   "file_extension": ".py",
   "mimetype": "text/x-python",
   "name": "python",
   "nbconvert_exporter": "python",
   "pygments_lexer": "ipython3",
   "version": "3.6.5-final"
  },
  "orig_nbformat": 2,
  "kernelspec": {
   "name": "python_defaultSpec_1598162170911",
   "display_name": "Python 3.6.5 64-bit ('dkn': conda)"
  }
 },
 "nbformat": 4,
 "nbformat_minor": 2,
 "cells": [
  {
   "cell_type": "code",
   "execution_count": 1,
   "metadata": {},
   "outputs": [],
   "source": [
    "import kashgari"
   ]
  },
  {
   "cell_type": "code",
   "execution_count": 3,
   "metadata": {},
   "outputs": [],
   "source": [
    "import utils.train_on_server as t"
   ]
  },
  {
   "cell_type": "code",
   "execution_count": 13,
   "metadata": {
    "tags": []
   },
   "outputs": [
    {
     "output_type": "stream",
     "name": "stderr",
     "text": "WARNING:root:Sequence length will auto set at 95% of sequence length\n"
    }
   ],
   "source": [
    "model = t.load_model(r'D:\\Ubuntu\\rootfs\\home\\pt\\models\\bert_epoch_20.model')"
   ]
  },
  {
   "cell_type": "code",
   "execution_count": 14,
   "metadata": {
    "tags": []
   },
   "outputs": [
    {
     "output_type": "stream",
     "name": "stdout",
     "text": "O,O\n\nO,O\n\nO,O\n\nO,O\n\nO,O\n\nO,O\n\nO,O\n\nO,O\n\nO,O\n\nO,O\n\nO,O\n\nO,O\n\nO,O\n\nO,O\n\nO,O\n\nO,O\n\nO,O\n\nO,O\n\nO,O\n\nO,O\n\nO,O\n\nO,O\n\nO,O\n\nO,O\n\nO,O\n\nO,O\n\nO,O\n\nO,O\n\nO,O\n\nO,O\n\nO,O\n\nO,O\n\nO,O\n\nO,O\n\nO,O\n\nO,O\n\nO,O\n\nO,O\n\nO,O\n\nO,O\n\nO,O\n\nO,O\n\nO,O\n\nO,O\n\nO,O\n\nO,O\n\nO,O\n\nO,O\n\nO,O\n\nO,O\n\nO,O\n\nO,O\n\nO,O\n\nO,O\n\nO,O\n\nO,O\n\nO,O\n\nO,O\n\nO,O\n\nO,O\n\nO,O\n\nO,O\n\nO,O\n\nO,O\n\nO,O\n\nO,O\n\nO,O\n\nO,O\n\nO,O\n\nO,O\n\nO,O\n\nO,O\n\nO,O\n\nO,O\n\nO,O\n\nO,O\n\nO,O\n\nO,O\n\nO,O\n\nO,O\n\nO,O\n\nO,O\n\nO,O\n\nO,O\n\nO,O\n\nO,O\n\nO,O\n\nO,O\n\nO,O\n\nO,O\n\nO,O\n\nO,O\n\nO,O\n\nO,O\n\nO,O\n\nO,O\n\nO,O\n\nO,O\n\nO,O\n\nO,O\n\nO,O\n\nO,O\n\nO,O\n\nO,O\n\nO,O\n\nO,O\n\nO,O\n\nO,O\n\nO,O\n\nO,O\n\nO,O\n\nO,O\n\nO,O\n\nO,O\n\nO,O\n\nO,O\n\nO,O\n\nO,O\n\nO,O\n\nO,O\n\nO,O\n\nO,O\n\nO,O\n\nO,O\n\nO,O\n\nO,O\n\nO,O\n\nO,O\n\nO,O\n\nO,O\n\nO,O\n\nO,O\n\nO,O\n\nO,O\n\nO,O\n\nO,O\n\nO,O\n\nO,O\n\nO,O\n\nO,O\n\nB-D,B-D\n\nI-D,I-D\n\nI-D,I-D\n\nI-D,I-D\n\nO,O\n\nO,O\n\nO,O\n\nO,O\n\nO,O\n\nO,O\n\nO,O\n\nO,O\n\nO,O\n\nO,O\n\nO,O\n\nO,O\n\nO,O\n\nO,O\n\nO,O\n\nO,O\n\nO,O\n\nO,O\n\nO,O\n\nO,O\n\nO,O\n\nO,O\n\nO,O\n\n"
    }
   ],
   "source": [
    "t.contrast(model,r'D:\\repositories\\DaChuang\\data\\语料\\labeled_train.txt')"
   ]
  },
  {
   "cell_type": "code",
   "execution_count": 15,
   "metadata": {},
   "outputs": [],
   "source": [
    "x,y =t.getTrain(path=r'D:\\repositories\\DaChuang\\data\\语料\\train.txt')"
   ]
  },
  {
   "cell_type": "markdown",
   "metadata": {},
   "source": [
    "- C：会议、讲座、刊物、座谈会、研讨会、分享会、启动仪式、讲话、展出，**e.g 题为xx的分享会**则全部标注\n",
    "- A：奖项、基金、奖学金，包含前缀，**e.g ACM优秀论文奖**则全部标注\n",
    "- O：组织，包括学生组织、各实验室、社会组织，包括前缀，**e.g 信息学院分团委**则全部标注，**不包括学校、学院、系别、部门**\n",
    "- M：专业方向，包括领域、专业，**论文题目中的专业词汇不标注**\n",
    "- P：职称、职位，不包含前缀，**e.g ACM编委则只标注编委，ACM标注为C（刊物）**\n",
    "- N：人名，包括**老师姓名、学生姓名**\n",
    "- D：学校、学院、系别、学院内各种部门\n",
    "- S：项目、夏令营、考试、比赛、国际小学期、免试攻读研究生等学生活动，**不包括论文**\n",
    "- L：地点，包括前缀，**e.g 信息楼报告厅**全部标注\n",
    "- "
   ]
  },
  {
   "cell_type": "code",
   "execution_count": 16,
   "metadata": {
    "tags": []
   },
   "outputs": [
    {
     "output_type": "stream",
     "name": "stdout",
     "text": "[['出', '席', '此', '次', '活', '动', '的', '嘉', '宾', '有', '党', '委', '副', '书', '记', '杜', '忠', '朝', '老', '师', '和', '分', '团', '委', '书', '记', '王', '晓', '彤', '老', '师', '以', '及', '我', '院', '各', '位', '班', '主', '任', '、', '辅', '导', '员', '和', '学', '生', '代', '表']]\n出---O\n\n席---O\n\n此---O\n\n次---O\n\n活---O\n\n动---O\n\n的---O\n\n嘉---O\n\n宾---O\n\n有---O\n\n党---B-P\n\n委---I-P\n\n副---I-P\n\n书---I-P\n\n记---I-P\n\n杜---B-N\n\n忠---I-N\n\n朝---I-N\n\n老---B-P\n\n师---I-P\n\n和---O\n\n分---B-P\n\n团---I-P\n\n委---I-P\n\n书---I-P\n\n记---I-P\n\n王---B-N\n\n晓---I-N\n\n彤---I-N\n\n老---O\n\n师---O\n\n以---O\n\n及---O\n\n我---O\n\n院---O\n\n各---O\n\n位---O\n\n班---O\n\n主---O\n\n任---I-P\n\n、---O\n\n辅---O\n\n导---O\n\n员---O\n\n和---O\n\n学---O\n\n生---O\n\n代---O\n\n表---O\n\n"
    }
   ],
   "source": [
    "t.predict(model,[x[-4]])"
   ]
  },
  {
   "cell_type": "code",
   "execution_count": 17,
   "metadata": {
    "tags": []
   },
   "outputs": [
    {
     "output_type": "stream",
     "name": "stdout",
     "text": "[['人', '大', '重', '阳', '系', '列', '讲', '座', 'N', 'o', '.', '1', '7', '0', '名', '家', '讲', '坛', '·', '新', '中', '国', '7', '0', '年', '第', '一', '讲', '【', '对', '话', '名', '家', '】', '王', '国', '刚', '：', '中', '国', '金', '融', '七', '十', '年', '我', '国', '经', '济', '社', '会', '发', '展', '进', '入', '了', '一', '个', '全', '新', '的', '历', '史', '时', '期', '，', '同', '时', '中', '国', '金', '融', '迈', '出', '了', '史', '无', '前', '例', '的', '发', '展', '步', '伐'], ['为', '总', '结', '和', '讨', '论', '全', '球', '变', '局', '下', '中', '国', '金', '融', '开', '放', '的', '路', '径', '选', '择', '，', '中', '国', '人', '民', '大', '学', '金', '融', '学', '科', '第', '三', '届', '年', '会', '将', '于', '2', '0', '1', '9', '年', '1', '1', '月', '2', '日', '在', '中', '国', '人', '民', '大', '学', '举', '行'], ['8', '月', '2', '1', '日', '至', '2', '6', '日', '，', 'I', 'M', 'I', '副', '所', '长', '、', '中', '国', '人', '民', '大', '学', '财', '政', '金', '融', '学', '院', '教', '授', '涂', '永', '红', '，', 'I', 'M', 'I', '副', '所', '长', '、', '中', '国', '人', '民', '大', '学', '财', '政', '金', '融', '学', '院', '院', '长', '助', '理', '王', '芳', '，', 'I', 'M', 'I', '特', '约', '研', '究', '员', '、', '中', '国', '人', '民', '大', '学', '货', '币', '金', '融', '系', '副', '主', '任', '何', '青', '，', 'I', 'M', 'I', '执', '行', '秘', '书', '长', '朱', '霜', '霜', '一', '行', '赴', '台', '湾', '调', '研', '，', '并', '出', '席', '了', '由', '台', '湾', '永', '丰', '主', '办', '的', '“', '人', '民', '币', '国', '际', '化', '与', '金', '融', '开', '放', '”', '演', '讲', '会', '和', '闭', '门', '研', '讨', '会'], ['9', '月', '9', '日', '下', '午', '，', '财', '政', '金', '融', '学', '院', '2', '0', '1', '9', '级', '本', '科', '新', '生', '家', '长', '见', '面', '会', '在', '明', '德', '法', '学', '楼', '0', '2', '0', '1', '教', '室', '顺', '利', '举', '行'], ['学', '院', '副', '院', '长', '岳', '树', '民', '、', '党', '委', '副', '书', '记', '宋', '科', '，', '学', '校', '心', '理', '健', '康', '教', '育', '与', '咨', '询', '中', '心', '副', '教', '授', '周', '莉', '出', '席', '，', '2', '0', '0', '余', '名', '2', '0', '1', '9', '级', '本', '科', '新', '生', '家', '长', '参', '加', '见', '面', '会'], ['课', '程', '由', '中', '国', '人', '民', '大', '学', '副', '校', '长', '吴', '晓', '球', '教', '授', '主', '讲', '，', '财', '政', '金', '融', '学', '院', '院', '长', '庄', '毓', '敏', '、', '副', '院', '长', '赵', '锡', '军', '出', '席', '，', '学', '院', '近', '4', '0', '0', '名', '2', '0', '1', '9', '级', '研', '究', '生', '新', '生', '聆', '听', '了', '吴', '校', '长', '的', '精', '彩', '讲', '授'], ['2', '0', '1', '9', '年', '8', '月', '初', '，', '数', '据', '挖', '掘', '领', '域', '顶', '级', '国', '际', '会', '议', 'K', 'D', 'D', '2', '0', '1', '9', '在', '美', '国', '阿', '拉', '斯', '加', '安', '克', '雷', '奇', '举', '行'], ['我', '校', '信', '息', '学', '院', '魏', '哲', '巍', '教', '授', '、', '研', '究', '生', '殷', '源', '参', '加', '了', '会', '议', '并', '做', '论', '文', '报', '告'], ['该', '论', '文', '设', '计', '了', '一', '种', '高', '效', '的', '图', '嵌', '入', '算', '法', '，', '该', '算', '法', '可', '以', '在', '线', '性', '时', '间', '内', '返', '回', '大', '规', '模', '网', '络', '的', '图', '嵌', '入', '向', '量'], ['K', 'D', 'D', '会', '议', '由', '国', '际', '计', '算', '机', '学', '会', 'A', 'C', 'M', '主', '办', '，', '是', '数', '据', '挖', '掘', '领', '域', '的', '顶', '级', '国', '际', '学', '术', '会', '议', '，', '每', '年', '一', '届', '，', '至', '今', '已', '举', '办', '2', '5', '届']]\n人---O\n\n大---O\n\n重---O\n\n阳---O\n\n系---O\n\n列---O\n\n讲---O\n\n座---O\n\nN---O\n\no---O\n\n.---O\n\n1---O\n\n7---O\n\n0---O\n\n名---O\n\n家---O\n\n讲---O\n\n坛---O\n\n·---O\n\n新---O\n\n中---O\n\n国---O\n\n7---O\n\n0---O\n\n年---O\n\n第---O\n\n一---O\n\n讲---O\n\n【---O\n\n对---O\n\n话---O\n\n名---O\n\n家---O\n\n】---O\n\n王---B-N\n\n国---I-N\n\n刚---I-N\n\n：---O\n\n中---O\n\n国---O\n\n金---O\n\n融---O\n\n七---O\n\n十---O\n\n年---O\n\n我---O\n\n国---O\n\n经---O\n\n济---O\n\n社---O\n\n会---O\n\n发---O\n\n展---O\n\n进---O\n\n入---O\n\n了---O\n\n一---O\n\n个---O\n\n全---O\n\n新---O\n\n的---O\n\n历---O\n\n史---O\n\n时---O\n\n期---O\n\n，---O\n\n同---O\n\n时---O\n\n中---O\n\n国---O\n\n金---O\n\n融---O\n\n迈---O\n\n出---O\n\n了---O\n\n史---O\n\n无---O\n\n前---O\n\n例---O\n\n的---O\n\n发---O\n\n展---O\n\n步---O\n\n伐---O\n\n为---O\n\n总---O\n\n结---O\n\n和---O\n\n讨---O\n\n论---O\n\n全---O\n\n球---O\n\n变---O\n\n局---O\n\n下---O\n\n中---O\n\n国---O\n\n金---O\n\n融---O\n\n开---O\n\n放---O\n\n的---O\n\n路---O\n\n径---O\n\n选---O\n\n择---O\n\n，---O\n\n中---B-D\n\n国---I-D\n\n人---I-D\n\n民---I-D\n\n大---I-D\n\n学---I-D\n\n金---I-D\n\n融---I-D\n\n学---I-D\n\n科---I-D\n\n第---I-C\n\n三---I-C\n\n届---I-C\n\n年---I-C\n\n会---I-C\n\n将---O\n\n于---O\n\n2---O\n\n0---O\n\n1---O\n\n9---O\n\n年---O\n\n1---O\n\n1---O\n\n月---O\n\n2---O\n\n日---O\n\n在---O\n\n中---B-D\n\n国---I-D\n\n人---I-D\n\n民---I-D\n\n大---I-D\n\n学---I-D\n\n举---O\n\n行---O\n\n8---O\n\n月---O\n\n2---O\n\n1---O\n\n日---O\n\n至---O\n\n2---O\n\n6---O\n\n日---O\n\n，---O\n\nI---B-C\n\nM---I-O\n\nI---I-O\n\n副---B-P\n\n所---I-P\n\n长---I-P\n\n、---O\n\n中---B-D\n\n国---I-D\n\n人---I-D\n\n民---I-D\n\n大---I-D\n\n学---I-D\n\n财---B-D\n\n政---I-D\n\n金---I-D\n\n融---I-D\n\n学---I-D\n\n院---I-D\n\n教---B-P\n\n授---I-P\n\n涂---B-N\n\n永---I-N\n\n红---I-N\n\n，---O\n\nI---B-O\n\nM---I-P\n\nI---I-P\n\n副---B-P\n\n所---I-P\n\n长---I-P\n\n、---O\n\n中---B-D\n\n国---I-D\n\n人---I-D\n\n民---I-D\n\n大---I-D\n\n学---I-D\n\n财---B-D\n\n政---I-D\n\n金---I-D\n\n融---I-D\n\n学---I-D\n\n院---I-D\n\n院---I-P\n\n长---I-P\n\n助---I-P\n\n理---I-P\n\n王---B-N\n\n芳---I-N\n\n，---O\n\nI---B-O\n\nM---I-O\n\nI---I-O\n\n特---B-P\n\n约---I-P\n\n研---I-P\n\n究---I-P\n\n员---I-P\n\n、---O\n\n中---B-D\n\n国---I-D\n\n人---I-D\n\n民---I-D\n\n大---I-D\n\n学---I-D\n\n货---B-D\n\n币---I-D\n\n金---I-D\n\n融---I-D\n\n系---I-D\n\n副---B-P\n\n主---I-P\n\n任---I-P\n\n何---B-N\n\n青---I-N\n\n，---O\n\nI---B-O\n\nM---I-O\n\nI---I-O\n\n执---B-P\n\n行---I-P\n\n秘---I-P\n\n书---I-P\n\n长---I-P\n\n朱---B-N\n\n霜---I-N\n\n霜---I-N\n\n一---O\n\n行---O\n\n赴---O\n\n台---O\n\n湾---O\n\n调---O\n\n研---O\n\n，---O\n\n并---O\n\n出---O\n\n席---O\n\n了---O\n\n由---O\n\n台---O\n\n湾---O\n\n永---B-N\n\n丰---O\n\n主---O\n\n办---O\n\n的---O\n\n“---O\n\n人---I-C\n\n民---I-C\n\n币---O\n\n国---I-C\n\n际---I-C\n\n化---I-C\n\n与---O\n\n金---I-C\n\n融---I-C\n\n开---O\n\n放---O\n\n”---I-C\n\n演---O\n\n讲---O\n\n会---O\n\n和---O\n\n闭---O\n\n门---O\n\n研---O\n\n讨---O\n\n会---O\n\n9---O\n\n月---O\n\n9---O\n\n日---O\n\n下---O\n\n午---O\n\n，---O\n\n财---B-D\n\n政---I-D\n\n金---I-D\n\n融---I-D\n\n学---I-D\n\n院---I-D\n\n2---O\n\n0---O\n\n1---O\n\n9---O\n\n级---O\n\n本---O\n\n科---O\n\n新---O\n\n生---O\n\n家---O\n\n长---O\n\n见---O\n\n面---O\n\n会---I-C\n\n在---O\n\n明---I-L\n\n德---I-L\n\n法---I-L\n\n学---I-L\n\n楼---I-L\n\n0---I-L\n\n2---I-L\n\n0---I-L\n\n1---I-L\n\n教---I-L\n\n室---I-L\n\n顺---O\n\n利---O\n\n举---O\n\n行---O\n\n学---O\n\n院---O\n\n副---B-P\n\n院---I-P\n\n长---I-P\n\n岳---B-N\n\n树---I-N\n\n民---I-N\n\n、---O\n\n党---B-P\n\n委---I-P\n\n副---I-P\n\n书---I-P\n\n记---I-P\n\n宋---B-N\n\n科---I-N\n\n，---O\n\n学---O\n\n校---O\n\n心---I-O\n\n理---I-O\n\n健---I-O\n\n康---I-O\n\n教---I-O\n\n育---I-O\n\n与---I-O\n\n咨---I-O\n\n询---I-O\n\n中---I-O\n\n心---I-O\n\n副---B-P\n\n教---I-P\n\n授---I-P\n\n周---B-N\n\n莉---I-N\n\n出---O\n\n席---O\n\n，---O\n\n2---O\n\n0---O\n\n0---O\n\n余---O\n\n名---O\n\n2---O\n\n0---O\n\n1---O\n\n9---O\n\n级---O\n\n本---O\n\n科---O\n\n新---O\n\n生---O\n\n家---O\n\n长---O\n\n参---O\n\n加---O\n\n见---O\n\n面---O\n\n会---O\n\n课---O\n\n程---O\n\n由---O\n\n中---B-D\n\n国---I-D\n\n人---I-D\n\n民---I-D\n\n大---I-D\n\n学---I-D\n\n副---B-P\n\n校---I-P\n\n长---I-P\n\n吴---B-N\n\n晓---I-N\n\n球---I-N\n\n教---B-P\n\n授---I-P\n\n主---O\n\n讲---O\n\n，---O\n\n财---B-D\n\n政---I-D\n\n金---I-D\n\n融---I-D\n\n学---I-D\n\n院---I-D\n\n院---B-P\n\n长---I-P\n\n庄---B-N\n\n毓---I-N\n\n敏---I-N\n\n、---O\n\n副---B-P\n\n院---I-P\n\n长---I-P\n\n赵---B-N\n\n锡---I-N\n\n军---I-N\n\n出---O\n\n席---O\n\n，---O\n\n学---O\n\n院---O\n\n近---O\n\n4---O\n\n0---O\n\n0---O\n\n名---O\n\n2---O\n\n0---O\n\n1---O\n\n9---O\n\n级---O\n\n研---O\n\n究---O\n\n生---O\n\n新---O\n\n生---O\n\n聆---O\n\n听---O\n\n了---O\n\n吴---B-N\n\n校---B-P\n\n长---I-P\n\n的---O\n\n精---O\n\n彩---O\n\n讲---O\n\n授---O\n\n2---O\n\n0---O\n\n1---O\n\n9---O\n\n年---O\n\n8---O\n\n月---O\n\n初---O\n\n，---O\n\n数---B-M\n\n据---I-M\n\n挖---I-M\n\n掘---I-M\n\n领---O\n\n域---O\n\n顶---O\n\n级---O\n\n国---O\n\n际---O\n\n会---O\n\n议---O\n\nK---I-C\n\nD---I-C\n\nD---I-C\n\n2---I-C\n\n0---I-C\n\n1---I-C\n\n9---O\n\n在---O\n\n美---B-L\n\n国---I-L\n\n阿---I-L\n\n拉---I-L\n\n斯---I-L\n\n加---I-L\n\n安---I-L\n\n克---I-L\n\n雷---O\n\n奇---I-L\n\n举---O\n\n行---O\n\n我---O\n\n校---O\n\n信---B-D\n\n息---I-D\n\n学---I-D\n\n院---I-D\n\n魏---B-N\n\n哲---I-N\n\n巍---I-N\n\n教---B-P\n\n授---I-P\n\n、---O\n\n研---O\n\n究---O\n\n生---O\n\n殷---B-N\n\n源---I-N\n\n参---O\n\n加---O\n\n了---O\n\n会---O\n\n议---O\n\n并---O\n\n做---O\n\n论---O\n\n文---O\n\n报---O\n\n告---O\n\n该---O\n\n论---O\n\n文---O\n\n设---O\n\n计---O\n\n了---O\n\n一---O\n\n种---O\n\n高---O\n\n效---O\n\n的---O\n\n图---O\n\n嵌---O\n\n入---O\n\n算---O\n\n法---O\n\n，---O\n\n该---O\n\n算---O\n\n法---O\n\n可---O\n\n以---O\n\n在---O\n\n线---O\n\n性---O\n\n时---O\n\n间---O\n\n内---O\n\n返---O\n\n回---O\n\n大---O\n\n规---O\n\n模---O\n\n网---O\n\n络---O\n\n的---O\n\n图---O\n\n嵌---O\n\n入---O\n\n向---O\n\n量---O\n\nK---B-O\n\nD---I-C\n\nD---I-C\n\n会---I-C\n\n议---I-C\n\n由---O\n\n国---B-O\n\n际---I-O\n\n计---I-O\n\n算---I-O\n\n机---I-O\n\n学---I-O\n\n会---I-O\n\nA---I-O\n\nC---I-O\n\nM---I-O\n\n主---O\n\n办---O\n\n，---O\n\n是---O\n\n数---B-M\n\n据---I-M\n\n挖---I-M\n\n掘---I-M\n\n领---O\n\n域---O\n\n的---O\n\n顶---O\n\n级---O\n\n国---O\n\n际---O\n\n学---O\n\n术---O\n\n会---O\n\n议---O\n\n，---O\n\n每---O\n\n年---O\n\n一---O\n\n届---O\n\n，---O\n\n至---O\n\n今---O\n\n已---O\n\n举---O\n\n办---O\n\n2---O\n\n5---O\n\n届---O\n\n"
    }
   ],
   "source": [
    "t.predict(model,x[-60:-50])"
   ]
  },
  {
   "cell_type": "code",
   "execution_count": null,
   "metadata": {},
   "outputs": [],
   "source": []
  }
 ]
}