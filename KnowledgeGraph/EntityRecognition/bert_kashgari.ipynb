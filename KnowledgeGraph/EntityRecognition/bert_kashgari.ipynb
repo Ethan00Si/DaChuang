{
 "metadata": {
  "language_info": {
   "codemirror_mode": {
    "name": "ipython",
    "version": 3
   },
   "file_extension": ".py",
   "mimetype": "text/x-python",
   "name": "python",
   "nbconvert_exporter": "python",
   "pygments_lexer": "ipython3",
   "version": "3.6.5-final"
  },
  "orig_nbformat": 2,
  "kernelspec": {
   "name": "python_defaultSpec_1598075717786",
   "display_name": "Python 3.6.5 64-bit ('dkn': conda)"
  }
 },
 "nbformat": 4,
 "nbformat_minor": 2,
 "cells": [
  {
   "cell_type": "code",
   "execution_count": null,
   "metadata": {},
   "outputs": [],
   "source": [
    "import kashgari\n",
    "import numpy\n",
    "from utils.utils import getTrainData_from_line,getTrainData_from_json\n",
    "from kashgari.embeddings import BERTEmbedding\n",
    "from kashgari.tasks.labeling import BiLSTM_CRF_Model\n",
    "import re"
   ]
  },
  {
   "cell_type": "code",
   "execution_count": null,
   "metadata": {
    "tags": []
   },
   "outputs": [],
   "source": [
    "train_data = getTrainData_from_line(r'../../data/语料/labeled_train.txt')"
   ]
  },
  {
   "cell_type": "code",
   "execution_count": null,
   "metadata": {},
   "outputs": [],
   "source": [
    "train_data[0]"
   ]
  },
  {
   "cell_type": "code",
   "execution_count": null,
   "metadata": {},
   "outputs": [],
   "source": [
    "train_x = []\n",
    "train_y = []\n",
    "for coup in train_data:\n",
    "    train_x.append(coup[0])\n",
    "    train_y.append(coup[1])"
   ]
  },
  {
   "cell_type": "code",
   "execution_count": null,
   "metadata": {},
   "outputs": [],
   "source": [
    "len_list = []\n",
    "for each in train_x:\n",
    "    len_list.append(len(each))\n",
    "max(len_list)"
   ]
  },
  {
   "cell_type": "code",
   "execution_count": null,
   "metadata": {
    "tags": []
   },
   "outputs": [],
   "source": [
    "bert = BERTEmbedding(model_folder=r\"D:\\codes\\Data\\NER_data\\bert\\chinese_L-12_H-768_A-12\",sequence_length=400,task=kashgari.LABELING)"
   ]
  },
  {
   "cell_type": "code",
   "execution_count": null,
   "metadata": {
    "tags": []
   },
   "outputs": [],
   "source": [
    "model = BiLSTM_CRF_Model()\n",
    "model.fit(train_x[:-50],train_y[:-50],train_x[-50:],train_y[-50:],epochs=100,batch_size=64)"
   ]
  },
  {
   "cell_type": "code",
   "execution_count": null,
   "metadata": {
    "tags": []
   },
   "outputs": [],
   "source": [
    "print(model.evaluate(train_x,train_y))"
   ]
  },
  {
   "cell_type": "code",
   "execution_count": null,
   "metadata": {},
   "outputs": [],
   "source": [
    "model.predict([\"窦 志 成 去 A C M\".split()])"
   ]
  },
  {
   "cell_type": "code",
   "execution_count": null,
   "metadata": {},
   "outputs": [],
   "source": [
    "a = numpy.array([model.predict([train_x[0]])[0],train_y[0]])\n",
    "a.T"
   ]
  },
  {
   "cell_type": "code",
   "execution_count": null,
   "metadata": {},
   "outputs": [],
   "source": [
    "training_data = [(\n",
    "        \"参 加 北 京 智 源 大 会\".split(),\n",
    "        \"O O B I I I I I \".split()\n",
    "    ), (\n",
    "        \"他 出 席 计 算 机 协 会 会 长\".split(),\n",
    "        \"O O O B I I I I O O\".split()\n",
    "    ),\n",
    "        (\n",
    "        \"作 为 主 讲 人 参 加 教 研 会 应 对 疫 情\".split(),\n",
    "        \"O O O O O O O B I I O O O O\".split()\n",
    "    )]"
   ]
  },
  {
   "cell_type": "code",
   "execution_count": null,
   "metadata": {},
   "outputs": [],
   "source": [
    "training_x = []\n",
    "training_y = []\n",
    "for coup in training_data:\n",
    "    training_x.append(coup[0])\n",
    "    training_y.append(coup[1])"
   ]
  },
  {
   "cell_type": "code",
   "execution_count": null,
   "metadata": {
    "tags": []
   },
   "outputs": [],
   "source": [
    "model = BiLSTM_CRF_Model()\n",
    "model.fit(training_x,training_y,training_x,training_y,epochs=20,batch_size=2)"
   ]
  },
  {
   "cell_type": "code",
   "execution_count": null,
   "metadata": {
    "tags": []
   },
   "outputs": [],
   "source": [
    "print(model.evaluate(training_x,training_y))"
   ]
  },
  {
   "cell_type": "code",
   "execution_count": null,
   "metadata": {},
   "outputs": [],
   "source": [
    "model.predict([\"窦 志 成 去 教 研 会\".split(' ')])"
   ]
  },
  {
   "cell_type": "code",
   "execution_count": null,
   "metadata": {},
   "outputs": [],
   "source": [
    "a = numpy.array([model.predict([training_x[0]]),training_y[0]])\n",
    "a.T,len(model.predict([training_x[0]])[0]),len(training_y[0])"
   ]
  }
 ]
}