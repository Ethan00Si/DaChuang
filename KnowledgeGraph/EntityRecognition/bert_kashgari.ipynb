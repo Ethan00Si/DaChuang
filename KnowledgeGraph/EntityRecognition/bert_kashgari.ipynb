{
 "metadata": {
  "language_info": {
   "codemirror_mode": {
    "name": "ipython",
    "version": 3
   },
   "file_extension": ".py",
   "mimetype": "text/x-python",
   "name": "python",
   "nbconvert_exporter": "python",
   "pygments_lexer": "ipython3",
   "version": "3.6.5-final"
  },
  "orig_nbformat": 2,
  "kernelspec": {
   "name": "python_defaultSpec_1597577190099",
   "display_name": "Python 3.6.5 64-bit ('dkn': conda)"
  }
 },
 "nbformat": 4,
 "nbformat_minor": 2,
 "cells": [
  {
   "cell_type": "code",
   "execution_count": null,
   "metadata": {},
   "outputs": [],
   "source": [
    "import kashgari\n",
    "import numpy\n",
    "from utils.utils import getTrainData_from_line,getTrainData_from_json\n",
    "from kashgari.embeddings import BERTEmbedding\n",
    "from kashgari.tasks.labeling import BiLSTM_CRF_Model\n",
    "import re"
   ]
  },
  {
   "cell_type": "code",
   "execution_count": null,
   "metadata": {
    "tags": []
   },
   "outputs": [],
   "source": [
    "f = open(r'D:\\codes\\Pt_Pytorch\\data\\corpus\\shit.txt','w',encoding='utf-8')\n",
    "for each in train_data:\n",
    "    f.write('\\n'.join([' '.join(each[0]),'*'.join(each[1])])+'\\n\\n')\n",
    "    print(len(each[0]),len(each[1]))\n",
    "f.close()"
   ]
  },
  {
   "cell_type": "code",
   "execution_count": null,
   "metadata": {
    "tags": []
   },
   "outputs": [],
   "source": [
    "train_data = getTrainData_from_line(r'D:\\codes\\Pt_Pytorch\\data\\corpus\\train.txt')"
   ]
  },
  {
   "cell_type": "code",
   "execution_count": null,
   "metadata": {},
   "outputs": [],
   "source": [
    "train_x = []\n",
    "train_y = []\n",
    "for coup in train_data:\n",
    "    train_x.append(coup[0])\n",
    "    train_y.append(coup[1])"
   ]
  },
  {
   "cell_type": "code",
   "execution_count": null,
   "metadata": {},
   "outputs": [],
   "source": [
    "train_x[3]"
   ]
  },
  {
   "cell_type": "code",
   "execution_count": null,
   "metadata": {},
   "outputs": [],
   "source": [
    "len_list = []\n",
    "for each in train_x:\n",
    "    len_list.append(len(each))\n",
    "max(len_list)"
   ]
  },
  {
   "cell_type": "code",
   "execution_count": null,
   "metadata": {
    "tags": []
   },
   "outputs": [],
   "source": [
    "bert = BERTEmbedding(model_folder=r\"D:\\codes\\Pt_Pytorch\\data\\bert\\chinese_L-12_H-768_A-12\",sequence_length=200,task=kashgari.LABELING)"
   ]
  },
  {
   "cell_type": "code",
   "execution_count": 19,
   "metadata": {
    "tags": []
   },
   "outputs": [
    {
     "output_type": "stream",
     "name": "stderr",
     "text": "WARNING:root:Sequence length will auto set at 95% of sequence length\nModel: \"model_7\"\n_________________________________________________________________\nLayer (type)                 Output Shape              Param #   \n=================================================================\ninput (InputLayer)           [(None, 198)]             0         \n_________________________________________________________________\nlayer_embedding (Embedding)  (None, 198, 100)          18900     \n_________________________________________________________________\nlayer_blstm (Bidirectional)  (None, 198, 256)          234496    \n_________________________________________________________________\nlayer_dense (Dense)          (None, 198, 64)           16448     \n_________________________________________________________________\nlayer_crf_dense (Dense)      (None, 198, 14)           910       \n_________________________________________________________________\nlayer_crf (CRF)              (None, 198, 14)           196       \n=================================================================\nTotal params: 270,950\nTrainable params: 270,950\nNon-trainable params: 0\n_________________________________________________________________\nEpoch 1/20\nEpoch 1/20\n1/1 [==============================] - 1s 1s/step - loss: 544.9276 - accuracy: 0.2432\n1/1 [==============================] - 6s 6s/step - loss: 565.7958 - accuracy: 0.1251 - val_loss: 544.9276 - val_accuracy: 0.2432\nEpoch 2/20\nEpoch 1/20\n1/1 [==============================] - 1s 555ms/step - loss: 544.6954 - accuracy: 0.2424\n1/1 [==============================] - 2s 2s/step - loss: 551.5248 - accuracy: 0.2432 - val_loss: 544.6954 - val_accuracy: 0.2424\nEpoch 3/20\nEpoch 1/20\n1/1 [==============================] - 1s 511ms/step - loss: 545.1465 - accuracy: 0.2382\n1/1 [==============================] - 2s 2s/step - loss: 536.4142 - accuracy: 0.2424 - val_loss: 545.1465 - val_accuracy: 0.2382\nEpoch 4/20\nEpoch 1/20\n1/1 [==============================] - 1s 540ms/step - loss: 544.4746 - accuracy: 0.2397\n1/1 [==============================] - 2s 2s/step - loss: 518.8815 - accuracy: 0.2382 - val_loss: 544.4746 - val_accuracy: 0.2397\nEpoch 5/20\nEpoch 1/20\n1/1 [==============================] - 1s 504ms/step - loss: 543.7281 - accuracy: 0.2416\n1/1 [==============================] - 2s 2s/step - loss: 497.1010 - accuracy: 0.2397 - val_loss: 543.7281 - val_accuracy: 0.2416\nEpoch 6/20\nEpoch 1/20\n1/1 [==============================] - 1s 573ms/step - loss: 543.2861 - accuracy: 0.2420\n1/1 [==============================] - 2s 2s/step - loss: 468.6438 - accuracy: 0.2416 - val_loss: 543.2861 - val_accuracy: 0.2420\nEpoch 7/20\nEpoch 1/20\n1/1 [==============================] - 1s 547ms/step - loss: 497.5434 - accuracy: 0.2416\n1/1 [==============================] - 2s 2s/step - loss: 430.0706 - accuracy: 0.2420 - val_loss: 497.5434 - val_accuracy: 0.2416\nEpoch 8/20\nEpoch 1/20\n1/1 [==============================] - 1s 538ms/step - loss: 494.4968 - accuracy: 0.2432\n1/1 [==============================] - 2s 2s/step - loss: 377.4957 - accuracy: 0.4627 - val_loss: 494.4968 - val_accuracy: 0.2432\nEpoch 9/20\nEpoch 1/20\n1/1 [==============================] - 1s 532ms/step - loss: 490.2691 - accuracy: 0.2580\n1/1 [==============================] - 2s 2s/step - loss: 314.5889 - accuracy: 0.4747 - val_loss: 490.2691 - val_accuracy: 0.2580\nEpoch 10/20\nEpoch 1/20\n1/1 [==============================] - 1s 526ms/step - loss: 490.3286 - accuracy: 0.2537\n1/1 [==============================] - 2s 2s/step - loss: 294.5273 - accuracy: 0.4880 - val_loss: 490.3286 - val_accuracy: 0.2537\nEpoch 11/20\nEpoch 1/20\n1/1 [==============================] - 1s 555ms/step - loss: 478.2449 - accuracy: 0.3100\n1/1 [==============================] - 2s 2s/step - loss: 297.3343 - accuracy: 0.4833 - val_loss: 478.2449 - val_accuracy: 0.3100\nEpoch 12/20\nEpoch 1/20\n1/1 [==============================] - 1s 514ms/step - loss: 467.9609 - accuracy: 0.3586\n1/1 [==============================] - 2s 2s/step - loss: 270.6205 - accuracy: 0.5423 - val_loss: 467.9609 - val_accuracy: 0.3586\nEpoch 13/20\nEpoch 1/20\n1/1 [==============================] - 1s 569ms/step - loss: 444.8084 - accuracy: 0.4709\n1/1 [==============================] - 2s 2s/step - loss: 248.6059 - accuracy: 0.5921 - val_loss: 444.8084 - val_accuracy: 0.4709\nEpoch 14/20\nEpoch 1/20\n1/1 [==============================] - 1s 525ms/step - loss: 436.6138 - accuracy: 0.5113\n1/1 [==============================] - 2s 2s/step - loss: 239.6510 - accuracy: 0.7044 - val_loss: 436.6138 - val_accuracy: 0.5113\nEpoch 15/20\nEpoch 1/20\n1/1 [==============================] - 1s 547ms/step - loss: 435.3005 - accuracy: 0.5206\n1/1 [==============================] - 2s 2s/step - loss: 235.3148 - accuracy: 0.7432 - val_loss: 435.3005 - val_accuracy: 0.5206\nEpoch 16/20\nEpoch 1/20\n1/1 [==============================] - 1s 526ms/step - loss: 435.2520 - accuracy: 0.5214\n1/1 [==============================] - 2s 2s/step - loss: 231.4776 - accuracy: 0.7483 - val_loss: 435.2520 - val_accuracy: 0.5214\nEpoch 17/20\nEpoch 1/20\n1/1 [==============================] - 1s 538ms/step - loss: 436.1317 - accuracy: 0.5183\n1/1 [==============================] - 2s 2s/step - loss: 226.3629 - accuracy: 0.7471 - val_loss: 436.1317 - val_accuracy: 0.5183\nEpoch 18/20\nEpoch 1/20\n1/1 [==============================] - 1s 527ms/step - loss: 437.0902 - accuracy: 0.5155\n1/1 [==============================] - 2s 2s/step - loss: 219.1130 - accuracy: 0.7413 - val_loss: 437.0902 - val_accuracy: 0.5155\nEpoch 19/20\nEpoch 1/20\n1/1 [==============================] - 1s 543ms/step - loss: 437.6729 - accuracy: 0.5132\n1/1 [==============================] - 1s 1s/step - loss: 209.4650 - accuracy: 0.7350 - val_loss: 437.6729 - val_accuracy: 0.5132\nEpoch 20/20\nEpoch 1/20\n1/1 [==============================] - 1s 516ms/step - loss: 437.8795 - accuracy: 0.5124\n1/1 [==============================] - 1s 1s/step - loss: 198.1700 - accuracy: 0.7308 - val_loss: 437.8795 - val_accuracy: 0.5124\n"
    },
    {
     "output_type": "execute_result",
     "data": {
      "text/plain": "<tensorflow.python.keras.callbacks.History at 0x1e725a16be0>"
     },
     "metadata": {},
     "execution_count": 19
    }
   ],
   "source": [
    "model = BiLSTM_CRF_Model()\n",
    "model.fit(train_x,train_y,train_x,train_y,epochs=20,batch_size=64)"
   ]
  },
  {
   "cell_type": "code",
   "execution_count": 21,
   "metadata": {
    "tags": []
   },
   "outputs": [
    {
     "output_type": "stream",
     "name": "stdout",
     "text": "precision    recall  f1-score   support\n\n        M     0.0000    0.0000    0.0000        14\n        P     0.0000    0.0000    0.0000         4\n        C     0.0000    0.0000    0.0000        16\n        A     0.0000    0.0000    0.0000         4\n        O     0.0000    0.0000    0.0000        11\n        N     0.0000    0.0000    0.0000         8\n\nmicro avg     0.0000    0.0000    0.0000        57\nmacro avg     0.0000    0.0000    0.0000        57\n\n           precision    recall  f1-score   support\n\n        M     0.0000    0.0000    0.0000        14\n        P     0.0000    0.0000    0.0000         4\n        C     0.0000    0.0000    0.0000        16\n        A     0.0000    0.0000    0.0000         4\n        O     0.0000    0.0000    0.0000        11\n        N     0.0000    0.0000    0.0000         8\n\nmicro avg     0.0000    0.0000    0.0000        57\nmacro avg     0.0000    0.0000    0.0000        57\n\n"
    }
   ],
   "source": [
    "print(model.evaluate(train_x,train_y))"
   ]
  },
  {
   "cell_type": "code",
   "execution_count": 17,
   "metadata": {},
   "outputs": [
    {
     "output_type": "execute_result",
     "data": {
      "text/plain": "[['O', 'O', 'O', 'O', 'O', 'O', '<PAD>']]"
     },
     "metadata": {},
     "execution_count": 17
    }
   ],
   "source": [
    "model.predict([\"窦 志 成 去 教 研 会\".split(' ')])"
   ]
  },
  {
   "cell_type": "code",
   "execution_count": 22,
   "metadata": {},
   "outputs": [
    {
     "output_type": "execute_result",
     "data": {
      "text/plain": "array([['O', 'O'],\n       ['O', 'O'],\n       ['O', 'O'],\n       ['O', 'O'],\n       ['O', 'O'],\n       ['O', 'O'],\n       ['O', 'O'],\n       ['O', 'O'],\n       ['O', 'O'],\n       ['O', 'O'],\n       ['O', 'O'],\n       ['O', 'O'],\n       ['O', 'O'],\n       ['O', 'O'],\n       ['O', 'O'],\n       ['O', 'O'],\n       ['O', 'O'],\n       ['O', 'O'],\n       ['O', 'O'],\n       ['O', 'O'],\n       ['O', 'O'],\n       ['O', 'B-C'],\n       ['O', 'I-C'],\n       ['O', 'I-C'],\n       ['O', 'I-C'],\n       ['O', 'I-C'],\n       ['O', 'I-C'],\n       ['O', 'I-C'],\n       ['O', 'I-C'],\n       ['O', 'I-C'],\n       ['O', 'I-C'],\n       ['O', 'I-C'],\n       ['O', 'I-C'],\n       ['O', 'I-C'],\n       ['O', 'I-C'],\n       ['O', 'I-C'],\n       ['O', 'I-C'],\n       ['O', 'I-C'],\n       ['O', 'I-C'],\n       ['O', 'I-C'],\n       ['O', 'I-C'],\n       ['O', 'I-C'],\n       ['O', 'I-C'],\n       ['O', 'I-C'],\n       ['O', 'I-C'],\n       ['O', 'I-C'],\n       ['O', 'O'],\n       ['O', 'B-N'],\n       ['O', 'I-N'],\n       ['O', 'I-N'],\n       ['O', 'B-P'],\n       ['O', 'I-P'],\n       ['O', 'O'],\n       ['O', 'O'],\n       ['O', 'O'],\n       ['O', 'O'],\n       ['O', 'O'],\n       ['O', 'O'],\n       ['O', 'O'],\n       ['O', 'O'],\n       ['O', 'O'],\n       ['O', 'O'],\n       ['O', 'O'],\n       ['O', 'B-C'],\n       ['O', 'I-C'],\n       ['O', 'I-C'],\n       ['O', 'I-C'],\n       ['O', 'I-C'],\n       ['O', 'I-C'],\n       ['O', 'I-C'],\n       ['O', 'I-C'],\n       ['O', 'I-C'],\n       ['O', 'I-C'],\n       ['O', 'I-C'],\n       ['O', 'I-C'],\n       ['O', 'I-C'],\n       ['O', 'I-C'],\n       ['O', 'I-C'],\n       ['O', 'I-C'],\n       ['O', 'I-C'],\n       ['O', 'I-C'],\n       ['O', 'I-C'],\n       ['O', 'I-C'],\n       ['O', 'I-C'],\n       ['O', 'I-C'],\n       ['O', 'I-C'],\n       ['O', 'I-C'],\n       ['O', 'I-C'],\n       ['O', 'I-C'],\n       ['O', 'I-C'],\n       ['O', 'I-C'],\n       ['O', 'I-C']], dtype='<U3')"
     },
     "metadata": {},
     "execution_count": 22
    }
   ],
   "source": [
    "a = numpy.array([model.predict([train_x[0]])[0],train_y[0]])\n",
    "a.T"
   ]
  },
  {
   "cell_type": "code",
   "execution_count": null,
   "metadata": {},
   "outputs": [],
   "source": [
    "training_data = [(\n",
    "        \"参 加 北 京 智 源 大 会\".split(),\n",
    "        \"O O B I I I I I \".split()\n",
    "    ), (\n",
    "        \"他 出 席 计 算 机 协 会 会 长\".split(),\n",
    "        \"O O O B I I I I O O\".split()\n",
    "    ),\n",
    "        (\n",
    "        \"作 为 主 讲 人 参 加 教 研 会 应 对 疫 情\".split(),\n",
    "        \"O O O O O O O B I I O O O O\".split()\n",
    "    )]"
   ]
  },
  {
   "cell_type": "code",
   "execution_count": null,
   "metadata": {},
   "outputs": [],
   "source": [
    "training_x = []\n",
    "training_y = []\n",
    "for coup in training_data:\n",
    "    training_x.append(coup[0])\n",
    "    training_y.append(coup[1])"
   ]
  },
  {
   "cell_type": "code",
   "execution_count": null,
   "metadata": {
    "tags": []
   },
   "outputs": [],
   "source": [
    "model = BiLSTM_CRF_Model()\n",
    "model.fit(training_x,training_y,training_x,training_y,epochs=20,batch_size=2)"
   ]
  },
  {
   "cell_type": "code",
   "execution_count": null,
   "metadata": {
    "tags": []
   },
   "outputs": [],
   "source": [
    "print(model.evaluate(training_x,training_y))"
   ]
  },
  {
   "cell_type": "code",
   "execution_count": null,
   "metadata": {},
   "outputs": [],
   "source": [
    "model.predict([\"窦 志 成 去 教 研 会\".split(' ')])"
   ]
  },
  {
   "cell_type": "code",
   "execution_count": null,
   "metadata": {},
   "outputs": [],
   "source": [
    "a = numpy.array([model.predict([training_x[0]]),training_y[0]])\n",
    "a.T,len(model.predict([training_x[0]])[0]),len(training_y[0])"
   ]
  },
  {
   "cell_type": "code",
   "execution_count": 3,
   "metadata": {},
   "outputs": [
    {
     "output_type": "execute_result",
     "data": {
      "text/plain": "['1', '2']"
     },
     "metadata": {},
     "execution_count": 3
    }
   ],
   "source": [
    "import re\n",
    "re.split(' +',input().strip())"
   ]
  },
  {
   "cell_type": "code",
   "execution_count": null,
   "metadata": {},
   "outputs": [],
   "source": []
  }
 ]
}