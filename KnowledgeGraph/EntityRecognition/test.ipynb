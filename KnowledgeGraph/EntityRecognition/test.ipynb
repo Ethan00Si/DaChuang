{
 "metadata": {
  "language_info": {
   "codemirror_mode": {
    "name": "ipython",
    "version": 3
   },
   "file_extension": ".py",
   "mimetype": "text/x-python",
   "name": "python",
   "nbconvert_exporter": "python",
   "pygments_lexer": "ipython3",
   "version": 3
  },
  "orig_nbformat": 2,
  "kernelspec": {
   "name": "python_defaultSpec_1596630435001",
   "display_name": "Python 3.7.6 64-bit ('base': conda)"
  }
 },
 "nbformat": 4,
 "nbformat_minor": 2,
 "cells": [
  {
   "cell_type": "code",
   "execution_count": 1,
   "metadata": {},
   "outputs": [],
   "source": [
    "import jiagu"
   ]
  },
  {
   "cell_type": "code",
   "execution_count": 7,
   "metadata": {
    "tags": []
   },
   "outputs": [
    {
     "output_type": "stream",
     "name": "stdout",
     "text": "['窦', '志成', '、', '徐君', '出席', 'SIGIR', '会议']\n['O', 'O', 'O', 'B-PER', 'O', 'O', 'O']\n"
    }
   ],
   "source": [
    "text = '窦志成、徐君出席SIGIR会议'\n",
    "words = jiagu.seg(text)\n",
    "print(words)\n",
    "ner = jiagu.ner(words) # 命名实体识别\n",
    "print(ner)"
   ]
  },
  {
   "cell_type": "code",
   "execution_count": 11,
   "metadata": {
    "tags": []
   },
   "outputs": [
    {
     "output_type": "stream",
     "name": "stdout",
     "text": "[]\n"
    }
   ],
   "source": [
    "text = '窦志成参加SIGIR会议,是信息学院的老师'\n",
    "knowledge = jiagu.knowledge(text)\n",
    "print(knowledge)"
   ]
  },
  {
   "cell_type": "code",
   "execution_count": 26,
   "metadata": {
    "tags": []
   },
   "outputs": [
    {
     "output_type": "stream",
     "name": "stdout",
     "text": "../README.md\n"
    }
   ],
   "source": [
    "with open(r'../README.md','r') as f:\n",
    "    print(f.name)"
   ]
  },
  {
   "cell_type": "code",
   "execution_count": 31,
   "metadata": {
    "tags": []
   },
   "outputs": [
    {
     "output_type": "stream",
     "name": "stdout",
     "text": "tet.txt\n"
    }
   ],
   "source": [
    "with open(r'tet.txt','r') as g:\n",
    "    print(g.name)"
   ]
  },
  {
   "cell_type": "code",
   "execution_count": 51,
   "metadata": {},
   "outputs": [
    {
     "output_type": "execute_result",
     "data": {
      "text/plain": "<re.Match object; span=(0, 1), match='教'>"
     },
     "metadata": {},
     "execution_count": 51
    }
   ],
   "source": [
    "import re\n",
    "re.search('\\S+','教 授')"
   ]
  },
  {
   "cell_type": "code",
   "execution_count": 52,
   "metadata": {},
   "outputs": [
    {
     "output_type": "execute_result",
     "data": {
      "text/plain": "<re.Match object; span=(10, 21), match='中国刑法学；比较刑法；'>"
     },
     "metadata": {},
     "execution_count": 52
    }
   ],
   "source": [
    "re.search('\\S+','\\r\\n        中国刑法学；比较刑法；刑事政策学\\r\\n    ')"
   ]
  },
  {
   "cell_type": "code",
   "execution_count": null,
   "metadata": {},
   "outputs": [],
   "source": []
  }
 ]
}