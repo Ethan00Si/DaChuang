{
 "metadata": {
  "language_info": {
   "codemirror_mode": {
    "name": "ipython",
    "version": 3
   },
   "file_extension": ".py",
   "mimetype": "text/x-python",
   "name": "python",
   "nbconvert_exporter": "python",
   "pygments_lexer": "ipython3",
   "version": "3.7.7-final"
  },
  "orig_nbformat": 2,
  "kernelspec": {
   "name": "Python 3.7.7 64-bit ('web': conda)",
   "display_name": "Python 3.7.7 64-bit ('web': conda)",
   "metadata": {
    "interpreter": {
     "hash": "c16a851c63c3e4072673cce0ebd4e2ea0b3b1938145b4fa7ab278007ca6aa5c9"
    }
   }
  }
 },
 "nbformat": 4,
 "nbformat_minor": 2,
 "cells": [
  {
   "cell_type": "code",
   "execution_count": 1,
   "metadata": {},
   "outputs": [],
   "source": [
    "import smoothnlp"
   ]
  },
  {
   "cell_type": "code",
   "execution_count": 2,
   "metadata": {},
   "outputs": [
    {
     "output_type": "execute_result",
     "data": {
      "text/plain": [
       "[{'charStart': 17,\n",
       "  'charEnd': 26,\n",
       "  'text': '2019年5月7日',\n",
       "  'nerTag': 'DATETIME',\n",
       "  'sTokenList': {'8': {'token': '2019年5月7日',\n",
       "    'postag': 'NT',\n",
       "    'tagproba': 0.96032125}},\n",
       "  'normalizedEntityValue': '2019年5月7日'},\n",
       " {'charStart': 4,\n",
       "  'charEnd': 9,\n",
       "  'text': '2019年',\n",
       "  'nerTag': 'DATETIME',\n",
       "  'sTokenList': {'2': {'token': '2019年',\n",
       "    'postag': 'NT',\n",
       "    'tagproba': 0.85127807}},\n",
       "  'normalizedEntityValue': '2019年'},\n",
       " {'charStart': 27,\n",
       "  'charEnd': 32,\n",
       "  'text': '5月14日',\n",
       "  'nerTag': 'DATETIME',\n",
       "  'sTokenList': {'10': {'token': '5月14日',\n",
       "    'postag': 'NT',\n",
       "    'tagproba': 0.840609}},\n",
       "  'normalizedEntityValue': '5月14日'},\n",
       " {'charStart': 0,\n",
       "  'charEnd': 4,\n",
       "  'text': '中国平安',\n",
       "  'nerTag': 'GS',\n",
       "  'sTokenList': {'1': {'token': '中国平安',\n",
       "    'postag': 'NR',\n",
       "    'tagproba': 0.7741639}},\n",
       "  'normalizedEntityValue': '中国平安'}]"
      ]
     },
     "metadata": {},
     "execution_count": 2
    }
   ],
   "source": [
    "smoothnlp.ner(\"窦志成参加ACM国际计算机学会，获得最佳论文奖\")"
   ]
  },
  {
   "cell_type": "code",
   "execution_count": null,
   "metadata": {},
   "outputs": [],
   "source": []
  }
 ]
}